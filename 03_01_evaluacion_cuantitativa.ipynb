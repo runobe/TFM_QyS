{
 "cells": [
  {
   "cell_type": "code",
   "execution_count": 1,
   "id": "31fdd79b-6338-454c-8203-e7f5b8cb7ec1",
   "metadata": {},
   "outputs": [],
   "source": [
    "import pandas as pd\n",
    "import os\n",
    "import time\n",
    "import numpy as np\n",
    "from gensim.models import LdaModel\n",
    "import ast\n",
    "from gsdmm import MovieGroupProcess\n",
    "from bertopic import BERTopic\n",
    "from sentence_transformers import SentenceTransformer\n",
    "from gensim.corpora import Dictionary, MmCorpus\n",
    "from gensim.models import Word2Vec\n",
    "from sklearn.cluster import KMeans,AgglomerativeClustering\n",
    "from sklearn.metrics import adjusted_rand_score, normalized_mutual_info_score, v_measure_score, confusion_matrix, rand_score, fowlkes_mallows_score, davies_bouldin_score, calinski_harabasz_score, silhouette_score\n",
    "from collections import Counter,defaultdict\n",
    "from bcubed_metrics.bcubed import Bcubed\n",
    "from gensim import models\n",
    "import pickle\n",
    "from sklearn.feature_extraction.text import TfidfVectorizer"
   ]
  },
  {
   "cell_type": "markdown",
   "id": "f83d9ed4",
   "metadata": {},
   "source": [
    "## Funciones para tratar datos "
   ]
  },
  {
   "cell_type": "code",
   "execution_count": 2,
   "id": "d3a3928b",
   "metadata": {},
   "outputs": [],
   "source": [
    "def filter_documents_for_dictionary(tokenized_documents, filtered_words):\n",
    "    filtered_documents = []\n",
    "    for doc in tokenized_documents:\n",
    "        filtered_doc = [word for word in doc if word in filtered_words]\n",
    "        filtered_documents.append(filtered_doc)\n",
    "    return filtered_documents\n",
    "\n",
    "def guardar_objeto(resultados, nombre_archivo):\n",
    "    with open(nombre_archivo, \"wb\") as archivo:\n",
    "        pickle.dump(resultados, archivo)\n",
    "        \n",
    "# matriz donde cada fila representa un vector de documento, obtenido como el promedio de los vectores de las palabras que lo componen\n",
    "def get_document_vectors(model, documents):\n",
    "    document_vectors = []\n",
    "    for doc in documents:\n",
    "        word_vectors = [model.wv[word] for word in doc if word in model.wv.key_to_index]\n",
    "        if word_vectors:\n",
    "            document_vector = np.mean(word_vectors, axis=0)\n",
    "            document_vectors.append(document_vector)\n",
    "        else:\n",
    "            # Manejar documentos vacíos o sin palabras válidas\n",
    "            # Omitir el documento o asignar un vector de ceros\n",
    "            # document_vectors.append(np.zeros(model.vector_size)) #vector de ceros\n",
    "            pass #omitir el documento\n",
    "    return document_vectors"
   ]
  },
  {
   "cell_type": "markdown",
   "id": "6346906d",
   "metadata": {},
   "source": [
    "## Funciones para evaluar los modelos "
   ]
  },
  {
   "cell_type": "code",
   "execution_count": 3,
   "id": "4ddcb479",
   "metadata": {},
   "outputs": [],
   "source": [
    "def create_bcubed_predicted_clustering(labels, true_labels):\n",
    "    cluster_to_service_counts = defaultdict(lambda: defaultdict(int))\n",
    "    for i, cluster in enumerate(labels):\n",
    "        service = true_labels[i]\n",
    "        cluster_to_service_counts[cluster][service] += 1\n",
    "    predicted_clustering = []\n",
    "    for cluster, service_counts in cluster_to_service_counts.items():\n",
    "        predicted_clustering.append(dict(service_counts))\n",
    "    return predicted_clustering\n",
    "\n",
    "\n",
    "def convertir_claves_a_string_en_predicted_clustering(predicted_clustering):\n",
    "    nuevo_predicted_clustering = []\n",
    "    for topic_counts in predicted_clustering:\n",
    "        nuevo_topic_counts = convertir_claves_a_string(topic_counts)\n",
    "        nuevo_predicted_clustering.append(nuevo_topic_counts)\n",
    "    return nuevo_predicted_clustering\n",
    "\n",
    "\n",
    "def contar_codigos_servicio(true_labels):\n",
    "    conteo_servicios = {}\n",
    "    for servicio in true_labels:\n",
    "        if servicio in conteo_servicios:\n",
    "            conteo_servicios[servicio] += 1\n",
    "        else:\n",
    "            conteo_servicios[servicio] = 1\n",
    "    return conteo_servicios\n",
    "\n",
    "def convertir_claves_a_string(diccionario):\n",
    "    nuevo_diccionario = {}\n",
    "    for clave, valor in diccionario.items():\n",
    "        nueva_clave = str(clave)  # Convierte la clave a string\n",
    "        nuevo_diccionario[nueva_clave] = valor\n",
    "    return nuevo_diccionario\n",
    "\n",
    "\n",
    "def evaluar_modelo(etiquetas_reales, etiquetas_predichas, X=None):\n",
    "    \n",
    "    resultados = {}\n",
    "\n",
    "    resultados[\"adjusted_rand_score\"] = adjusted_rand_score(\n",
    "        etiquetas_reales, etiquetas_predichas\n",
    "    )\n",
    "    resultados[\"normalized_mutual_info_score\"] = normalized_mutual_info_score(\n",
    "        etiquetas_reales, etiquetas_predichas\n",
    "    )\n",
    "    \n",
    "    resultados[\"confusion_matrix\"] = confusion_matrix(\n",
    "        etiquetas_reales, etiquetas_predichas\n",
    "    )\n",
    "   \n",
    "    resultados[\"fowlkes_mallows_score\"] = fowlkes_mallows_score(\n",
    "        etiquetas_reales, etiquetas_predichas\n",
    "    )\n",
    "    \n",
    "    # Métricas B-Cubed\n",
    "    #Preparar diccionario para cluster indicar documentos asociados a etiquetas reales\n",
    "    \n",
    "    predicted_clustering = create_bcubed_predicted_clustering(etiquetas_predichas , etiquetas_reales)\n",
    "    predicted_clustering_string = convertir_claves_a_string_en_predicted_clustering(predicted_clustering)\n",
    "   \n",
    "    #Preparar diccionario con ground_truth_cluster\n",
    "    \n",
    "    conteo_servicios = contar_codigos_servicio(etiquetas_reales)\n",
    "    ground_labels = convertir_claves_a_string(conteo_servicios)\n",
    "   \n",
    "    b = Bcubed(ground_truth_clustering=ground_labels, predicted_clustering=predicted_clustering_string)\n",
    "   \n",
    "    resultados[\"bcubed_precision\"] = b.bcubed_precision\n",
    "    resultados[\"bcubed_recall\"] = b.bcubed_recall\n",
    "    resultados[\"bcubed_f1\"] = b.bcubed_f1\n",
    "    \n",
    "    # Métricas de validación interna\n",
    "    \n",
    "    if X is not None:\n",
    "        resultados[\"davies_bouldin_score\"] = davies_bouldin_score(\n",
    "          X, etiquetas_predichas\n",
    "      )\n",
    "        resultados[\"calinski_harabasz_score\"] = calinski_harabasz_score(\n",
    "          X, etiquetas_predichas\n",
    "      )\n",
    "        resultados[\"silhouette_score\"] = silhouette_score(\n",
    "          X, etiquetas_predichas\n",
    "      )\n",
    "        resultados[\"homogeneity_score\"] = homogeneity_score(\n",
    "        etiquetas_reales, etiquetas_predichas\n",
    "    )\n",
    "        resultados[\"completeness_score\"] = completeness_score(\n",
    "        etiquetas_reales, etiquetas_predichas\n",
    "    )\n",
    "        \n",
    "\n",
    "\n",
    "\n",
    "    return resultados"
   ]
  },
  {
   "cell_type": "markdown",
   "id": "8ea8648b",
   "metadata": {},
   "source": [
    "## Función principal para generar y evaluar los modelos "
   ]
  },
  {
   "cell_type": "code",
   "execution_count": 4,
   "id": "a78622fd",
   "metadata": {},
   "outputs": [],
   "source": [
    "def generar_y_evaluar_modelos_topicos(etiquetas_reales, modelos=[\"lda\", \"hlda\", \"gsdmm_100\", \"bertopic_Roberta\",\"bertopic\", \"agglomerative_word2vec\",\"agglomerative_tfidf\", \"kmeans_Tfidf\",\"kmeans_word2vec_100\",\"kmeans_word2vec_150\",\"kmeans_word2vec_200\",\"kmeans_word2vec_250\"], num_ejecuciones=5, **kwargs):\n",
    "    \n",
    "    for modelo_nombre in modelos:\n",
    "        resultados[modelo_nombre] = {}\n",
    "        resultados[modelo_nombre][\"etiquetas_predichas\"] = []  # Inicializa la lista de etiquetas predichas\n",
    "        resultados_ejecuciones = []\n",
    "        tiempos_entrenamiento = []\n",
    "        random_seeds = [42, 123, 567, 890, 1001]\n",
    "        modelo = None\n",
    "        X = None\n",
    "        if modelo_nombre == \"bertopic\" or modelo_nombre == \"bertopic_Roberta\": \n",
    "            for ejecucion in range(num_ejecuciones):\n",
    "                tiempo_inicio = time.time()\n",
    "                if modelo_nombre == \"bertopic\":\n",
    "                    documentos = kwargs.get(\"documentos\")\n",
    "                    #text_documents = [\" \".join(doc) for doc in documentos]\n",
    "                    bertopic_model = BERTopic(language=\"spanish\",nr_topics=len(set(etiquetas_reales)),verbose=True)\n",
    "                    etiquetas_predichas, _ = bertopic_model.fit_transform(documentos)\n",
    "                    # Obtenemos las representaciones vectoriales de BERTopic\n",
    "                    # embedding_model = SentenceTransformer(\"all-mpnet-base-v2\")\n",
    "                    # X = embedding_model.encode(documentos)  \n",
    "                elif modelo_nombre == \"bertopic_Roberta\":\n",
    "                    documentos = kwargs.get(\"documentos\")\n",
    "                    #text_documents = [\" \".join(doc) for doc in documentos]\n",
    "                    # Cargar un modelo RoBERTa pre-entrenado\n",
    "                    embedding_model = SentenceTransformer(\"roberta-base-nli-stsb-mean-tokens\")\n",
    "                    bertopic_model = BERTopic(language=\"spanish\",nr_topics=len(set(etiquetas_reales)),verbose=True,embedding_model=embedding_model)\n",
    "                    etiquetas_predichas, _ = bertopic_model.fit_transform(documentos)\n",
    "                tiempo_fin = time.time()\n",
    "                tiempos_entrenamiento.append(tiempo_fin - tiempo_inicio)\n",
    "                if 'bertopic_model' in locals(): \n",
    "                    modelo = bertopic_model\n",
    "                    nombre_archivo = os.path.join(ruta_guardado, f\"{modelo_nombre}_ejecucion_{ejecucion}.pkl\") # Cambia la extensión a .pkl\n",
    "                    with open(nombre_archivo, \"wb\") as archivo:\n",
    "                        pickle.dump(modelo, archivo)\n",
    "                    resultados_ejecuciones.append(evaluar_modelo(etiquetas_reales, etiquetas_predichas, X))\n",
    "                    resultados[modelo_nombre][\"resultados_ejecuciones\"] = resultados_ejecuciones\n",
    "\n",
    "        if modelo_nombre == \"agglomerative_word2vec\":\n",
    "            documentos = kwargs.get(\"documentos\")\n",
    "            agg_model = AgglomerativeClustering(n_clusters=len(set(etiquetas_reales)), linkage='ward')\n",
    "            etiquetas_predichas = agg_model.fit_predict(documentos)\n",
    "        elif modelo_nombre == \"agglomerative_Tfidf\":\n",
    "            tiempo_inicio = time.time()\n",
    "            documentos = kwargs.get(\"documentos\")\n",
    "            vectorizer = TfidfVectorizer()\n",
    "            documentos_como_cadenas = [\" \".join(doc) for doc in documentos]\n",
    "            # Calcular TF-IDF\n",
    "            tfidf_matrix = vectorizer.fit_transform(documentos_como_cadenas)\n",
    "            tfidf_matrix_dense = tfidf_matrix.toarray()\n",
    "            agg_model = AgglomerativeClustering(n_clusters=len(set(etiquetas_reales)), linkage='ward')\n",
    "            etiquetas_predichas = agg_model.fit_predict(tfidf_matrix_dense)\n",
    "            tiempo_fin = time.time()\n",
    "            tiempos_entrenamiento.append(tiempo_fin - tiempo_inicio)\n",
    "        if 'agg_model' in locals(): \n",
    "            modelo = agg_model\n",
    "            nombre_archivo = os.path.join(ruta_guardado, f\"{modelo_nombre}_ejecucion_0.pkl\") # Cambia la extensión a .pkl\n",
    "            with open(nombre_archivo, \"wb\") as archivo:\n",
    "                pickle.dump(modelo, archivo)\n",
    "                    \n",
    "            resultados[modelo_nombre][\"etiquetas_predichas\"].append(etiquetas_predichas)\n",
    "            resultados_ejecuciones.append(evaluar_modelo(etiquetas_reales, etiquetas_predichas, X))\n",
    "            resultados[modelo_nombre][\"resultados_ejecuciones\"] = resultados_ejecuciones\n",
    "            \n",
    "        for seed in random_seeds:\n",
    "            tiempo_inicio = time.time()\n",
    "           \n",
    "\n",
    "            if modelo_nombre == \"lda\":\n",
    "                corpus = kwargs.get(\"corpus\")\n",
    "                diccionario = kwargs.get(\"diccionario\")\n",
    "                if corpus is None:\n",
    "                    raise ValueError(\"corpus debe proporcionarse para el modelo LDA.\")\n",
    "                if diccionario is None:\n",
    "                    raise ValueError(\"diccionario debe proporcionarse para el modelo LDA.\")                \n",
    "                lda_model = models.LdaModel(corpus, num_topics=len(set(etiquetas_reales)), id2word=diccionario, alpha=0.05, eta=0.01, iterations=100, random_state=seed  )\n",
    "                etiquetas_predichas = [max(lda_model[doc], key=lambda x: x[1])[0] for doc in corpus]\n",
    "                \n",
    "                \n",
    "            elif modelo_nombre == \"hlda\":\n",
    "                corpus = kwargs.get(\"corpus\")\n",
    "                vocabulario = kwargs.get(\"diccionario\")\n",
    "                n_samples = kwargs.get(\"n_samples\")\n",
    "                hlda_model = HierarchicalLDA( corpus, vocab=vocabulario,num_levels=2, alpha=1.0, gamma=1.0, eta=0.1,verbose=True)\n",
    "                hlda_model.estimate(n_samples, display_topics=len(set(etiquetas_reales)), n_words=10)\n",
    "                etiquetas_predichas = [hlda_model.infer_new_document(doc)[0][0] for doc in corpus]\n",
    "               \n",
    "                \n",
    "            elif modelo_nombre == \"gsdmm_100\":\n",
    "                n_terms = kwargs.get(\"n_terms\")\n",
    "                documentos = kwargs.get(\"documentos\")\n",
    "                if n_terms is None:\n",
    "                    raise ValueError(\"n_terms debe proporcionarse para el modelo GSDMM.\")\n",
    "                if documentos is None:\n",
    "                    raise ValueError(\"documentos debe proporcionarse para el modelo GSDMM.\")    \n",
    "                gsdmm_model = MovieGroupProcess(K=len(set(etiquetas_reales)), n_iters=100, alpha=0.1, beta=0.1)\n",
    "                y = gsdmm_model.fit(documentos,n_terms)\n",
    "                etiquetas_predichas = np.array(y)\n",
    "                \n",
    "         \n",
    "                                  \n",
    "            elif modelo_nombre == \"kmeans_Tfidf\":\n",
    "                documentos = kwargs.get(\"documentos\")\n",
    "                vectorizer = TfidfVectorizer()\n",
    "                documentos_como_cadenas = [\" \".join(doc) for doc in documentos]\n",
    "                # Calcular TF-IDF\n",
    "                tfidf_matrix = vectorizer.fit_transform(documentos_como_cadenas)\n",
    "                kmeans_model = KMeans(n_clusters=len(set(etiquetas_reales)), max_iter=100,random_state=seed )\n",
    "                etiquetas_predichas = kmeans_model.fit_predict(tfidf_matrix)\n",
    "            elif modelo_nombre == \"kmeans_word2vec\" or modelo_nombre == \"kmeans_word2vec_100\" or modelo_nombre == \"kmeans_word2vec_150\" or modelo_nombre == \"kmeans_word2vec_200\" or modelo_nombre == \"kmeans_word2vec_250\":\n",
    "                documentos = kwargs.get(\"documentos\")\n",
    "                kmeans_model = KMeans(n_clusters=len(set(etiquetas_reales)), max_iter=100, random_state=seed )\n",
    "                etiquetas_predichas = kmeans_model.fit_predict(documentos)                \n",
    "\n",
    "            tiempo_fin = time.time()\n",
    "            tiempos_entrenamiento.append(tiempo_fin - tiempo_inicio)\n",
    "            \n",
    "        # Guardar el modelo\n",
    "            if 'lda_model' in locals(): modelo = lda_model\n",
    "            elif 'hlda_model' in locals(): modelo = hlda_model\n",
    "            elif 'gsdmm_model' in locals(): modelo = gsdmm_model\n",
    "            elif 'kmeans_model' in locals(): modelo = kmeans_model\n",
    "                 \n",
    "            # Guardar el modelo\n",
    "            if modelo is not None:\n",
    "                nombre_archivo = os.path.join(ruta_guardado, f\"{modelo_nombre}_ejecucion_{seed}.pkl\") # Cambia la extensión a .pkl\n",
    "                with open(nombre_archivo, \"wb\") as archivo:\n",
    "                    pickle.dump(modelo, archivo)\n",
    "                    \n",
    "            resultados[modelo_nombre][\"etiquetas_predichas\"].append(etiquetas_predichas)\n",
    "                \n",
    "            resultados_ejecuciones.append(evaluar_modelo(etiquetas_reales, etiquetas_predichas, X))\n",
    "            resultados[modelo_nombre][\"resultados_ejecuciones\"] = resultados_ejecuciones\n",
    "            \n",
    "    # Promediar y calcular la desviación estándar de los resultados\n",
    "        for metrica in resultados_ejecuciones[0]:\n",
    "            valores_metrica = [resultado[metrica] for resultado in resultados_ejecuciones]\n",
    "            resultados[modelo_nombre][metrica] = {\n",
    "                \"promedio\": np.mean(valores_metrica),\n",
    "                \"desviacion_estandar\": np.std(valores_metrica)\n",
    "            }\n",
    "\n",
    "        resultados[modelo_nombre][\"tiempo_entrenamiento\"] = {\n",
    "            \"promedio\": np.mean(tiempos_entrenamiento),\n",
    "            \"desviacion_estandar\": np.std(tiempos_entrenamiento)\n",
    "        }\n",
    "    guardar_objeto(resultados, \"resultados_modelos.pkl\")   \n",
    "    return resultados"
   ]
  },
  {
   "cell_type": "markdown",
   "id": "b2933968",
   "metadata": {},
   "source": [
    "## Función para visualizar resultados "
   ]
  },
  {
   "cell_type": "code",
   "execution_count": 5,
   "id": "a995a7e1-ccd2-4c2e-b79c-d94f4e725bce",
   "metadata": {},
   "outputs": [],
   "source": [
    "def generar_tabla_metricas_fijas2(metricas, metricas_deseadas, modelos_deseados=None):\n",
    "    tabla_html = \"<table>\\n\"\n",
    "    tabla_html += \"  <tr>\\n\"\n",
    "    tabla_html += \"    <th>Métrica</th>\\n\"\n",
    "\n",
    "    # Determinar qué modelos mostrar\n",
    "    modelos_a_mostrar = modelos_deseados if modelos_deseados else list(metricas.keys())\n",
    "\n",
    "    for modelo in modelos_a_mostrar:\n",
    "        tabla_html += f\"    <th>{modelo.upper()}</th>\\n\"\n",
    "    tabla_html += \"  </tr>\\n\"\n",
    "\n",
    "    for metrica in metricas_deseadas:\n",
    "        tabla_html += \"  <tr>\\n\"\n",
    "        tabla_html += f\"    <td>{metrica.replace('_', ' ').title()}</td>\\n\"\n",
    "        for modelo in modelos_a_mostrar:\n",
    "            if metrica in metricas[modelo]:\n",
    "                promedio = metricas[modelo][metrica]['promedio']\n",
    "                desviacion = metricas[modelo][metrica]['desviacion_estandar']\n",
    "                tabla_html += f\"    <td>{promedio:.4f} ± {desviacion:.4f}</td>\\n\"\n",
    "            else:\n",
    "                tabla_html += \"    <td>-</td>\\n\"  # Si la métrica no está para un modelo\n",
    "        tabla_html += \"  </tr>\\n\"\n",
    "\n",
    "    tabla_html += \"</table>\"\n",
    "    return tabla_html\n",
    "\n",
    "# Ejemplo de uso con modelos específicos:\n",
    "metricas_deseadas = [\n",
    "    'adjusted_rand_score',\n",
    "    'normalized_mutual_info_score',\n",
    "    'fowlkes_mallows_score',\n",
    "    'bcubed_precision',\n",
    "    'bcubed_recall',\n",
    "    'bcubed_f1',\n",
    "    'tiempo_entrenamiento'\n",
    "]\n",
    "\n"
   ]
  },
  {
   "cell_type": "markdown",
   "id": "6a18befd",
   "metadata": {},
   "source": [
    "## Carga de datos"
   ]
  },
  {
   "cell_type": "code",
   "execution_count": 3,
   "id": "493ec84e",
   "metadata": {},
   "outputs": [],
   "source": [
    "#Cargar datos, diccionario y corpus preparados en preprocesado \n",
    "\n",
    "df_preprocesado = pd.read_csv('df_preprocesado.csv', sep=';')\n",
    "dictionary = Dictionary.load('dictionary_filtrado_spacy.gensim')\n",
    "corpus = MmCorpus('corpus.mm')\n",
    "\n",
    "\n",
    "#Cargar etiquetas de servicios asociados a documentos\n",
    "\n",
    "true_labels = df_preprocesado['code_service_unificado'].tolist()\n",
    "\n",
    "#Iniciarlizar resultados y documentos\n",
    "\n",
    "documentos=[]\n",
    "resultados = {}\n",
    "\n",
    "#Preparar ruta para guardado\n",
    "\n",
    "ruta_guardado = \"./modelos_topicos\"\n",
    "if not os.path.exists(ruta_guardado):\n",
    "    os.makedirs(ruta_guardado)\n",
    " "
   ]
  },
  {
   "cell_type": "code",
   "execution_count": 4,
   "id": "042ed784",
   "metadata": {},
   "outputs": [],
   "source": [
    "#preparar documentos para partir de las mismas condiciones \n",
    "filtered_words = set(dictionary.token2id.keys())\n",
    "n_term=len(filtered_words)\n",
    "preprocesado_documents=df_preprocesado['texto_preprocesado'].apply(ast.literal_eval)    \n",
    "documents = filter_documents_for_dictionary(preprocesado_documents, filtered_words)  "
   ]
  },
  {
   "cell_type": "markdown",
   "id": "67044280",
   "metadata": {},
   "source": [
    "## Generar y evaluar Modelos"
   ]
  },
  {
   "cell_type": "markdown",
   "id": "8c27a987",
   "metadata": {},
   "source": [
    "### LDA "
   ]
  },
  {
   "cell_type": "code",
   "execution_count": 18,
   "id": "cf3a4af1",
   "metadata": {},
   "outputs": [],
   "source": [
    "resultados = entrenar_y_evaluar_modelos_topicos(true_labels, modelos=[\"lda\"],diccionario=dictionary, corpus=corpus)  "
   ]
  },
  {
   "cell_type": "code",
   "execution_count": 21,
   "id": "5f8544b6",
   "metadata": {},
   "outputs": [],
   "source": [
    "modelos_a_mostrar = ['lda'] # Solo muestra estos modelos.\n",
    "\n",
    "tabla_html = generar_tabla_metricas_fijas2(resultados, metricas_deseadas, modelos_a_mostrar)"
   ]
  },
  {
   "cell_type": "code",
   "execution_count": 22,
   "id": "1613adf4",
   "metadata": {},
   "outputs": [
    {
     "data": {
      "text/html": [
       "<table>\n",
       "  <tr>\n",
       "    <th>Métrica</th>\n",
       "    <th>LDA</th>\n",
       "  </tr>\n",
       "  <tr>\n",
       "    <td>Adjusted Rand Score</td>\n",
       "    <td>0.1802 ± 0.0186</td>\n",
       "  </tr>\n",
       "  <tr>\n",
       "    <td>Normalized Mutual Info Score</td>\n",
       "    <td>0.3097 ± 0.0080</td>\n",
       "  </tr>\n",
       "  <tr>\n",
       "    <td>Fowlkes Mallows Score</td>\n",
       "    <td>0.2498 ± 0.0187</td>\n",
       "  </tr>\n",
       "  <tr>\n",
       "    <td>Bcubed Precision</td>\n",
       "    <td>0.3530 ± 0.0086</td>\n",
       "  </tr>\n",
       "  <tr>\n",
       "    <td>Bcubed Recall</td>\n",
       "    <td>0.1802 ± 0.0101</td>\n",
       "  </tr>\n",
       "  <tr>\n",
       "    <td>Bcubed F1</td>\n",
       "    <td>0.1991 ± 0.0117</td>\n",
       "  </tr>\n",
       "  <tr>\n",
       "    <td>Tiempo Entrenamiento</td>\n",
       "    <td>31.9839 ± 0.4869</td>\n",
       "  </tr>\n",
       "</table>"
      ],
      "text/plain": [
       "<IPython.core.display.HTML object>"
      ]
     },
     "metadata": {},
     "output_type": "display_data"
    }
   ],
   "source": [
    "from IPython.display import display, HTML\n",
    "display(HTML(tabla_html))"
   ]
  },
  {
   "cell_type": "markdown",
   "id": "c3fb1d89",
   "metadata": {},
   "source": [
    "### GSDMM"
   ]
  },
  {
   "cell_type": "code",
   "execution_count": 21,
   "id": "e08254ef",
   "metadata": {},
   "outputs": [],
   "source": [
    "with open('resultados_modelos.pkl', 'rb') as archivo:\n",
    "    resultados = pickle.load(archivo)"
   ]
  },
  {
   "cell_type": "code",
   "execution_count": null,
   "id": "4b079f59",
   "metadata": {},
   "outputs": [
    {
     "name": "stdout",
     "output_type": "stream",
     "text": [
      "In stage 0: transferred 63946 clusters with 61 clusters populated\n",
      "In stage 1: transferred 30066 clusters with 61 clusters populated\n",
      "In stage 2: transferred 12204 clusters with 61 clusters populated\n",
      "In stage 3: transferred 7973 clusters with 61 clusters populated\n",
      "In stage 4: transferred 6186 clusters with 61 clusters populated\n",
      "In stage 5: transferred 5420 clusters with 61 clusters populated\n",
      "In stage 6: transferred 4944 clusters with 61 clusters populated\n",
      "In stage 7: transferred 4647 clusters with 61 clusters populated\n",
      "In stage 8: transferred 4330 clusters with 61 clusters populated\n",
      "In stage 9: transferred 4304 clusters with 61 clusters populated\n",
      "In stage 10: transferred 4176 clusters with 61 clusters populated\n",
      "In stage 11: transferred 4054 clusters with 61 clusters populated\n",
      "In stage 12: transferred 3908 clusters with 61 clusters populated\n",
      "In stage 13: transferred 3792 clusters with 61 clusters populated\n",
      "In stage 14: transferred 3648 clusters with 61 clusters populated\n",
      "In stage 15: transferred 3702 clusters with 61 clusters populated\n",
      "In stage 16: transferred 3652 clusters with 61 clusters populated\n",
      "In stage 17: transferred 3617 clusters with 61 clusters populated\n",
      "In stage 18: transferred 3565 clusters with 61 clusters populated\n",
      "In stage 19: transferred 3528 clusters with 61 clusters populated\n",
      "In stage 20: transferred 3555 clusters with 61 clusters populated\n",
      "In stage 21: transferred 3471 clusters with 61 clusters populated\n",
      "In stage 22: transferred 3419 clusters with 61 clusters populated\n",
      "In stage 23: transferred 3460 clusters with 61 clusters populated\n",
      "In stage 24: transferred 3477 clusters with 61 clusters populated\n",
      "In stage 25: transferred 3446 clusters with 61 clusters populated\n",
      "In stage 26: transferred 3411 clusters with 61 clusters populated\n",
      "In stage 27: transferred 3428 clusters with 61 clusters populated\n",
      "In stage 28: transferred 3485 clusters with 61 clusters populated\n",
      "In stage 29: transferred 3428 clusters with 61 clusters populated\n",
      "In stage 30: transferred 3503 clusters with 61 clusters populated\n",
      "In stage 31: transferred 3498 clusters with 61 clusters populated\n",
      "In stage 32: transferred 3463 clusters with 61 clusters populated\n",
      "In stage 33: transferred 3497 clusters with 61 clusters populated\n",
      "In stage 34: transferred 3463 clusters with 61 clusters populated\n",
      "In stage 35: transferred 3345 clusters with 61 clusters populated\n",
      "In stage 36: transferred 3418 clusters with 61 clusters populated\n",
      "In stage 37: transferred 3476 clusters with 61 clusters populated\n",
      "In stage 38: transferred 3400 clusters with 61 clusters populated\n",
      "In stage 39: transferred 3478 clusters with 61 clusters populated\n",
      "In stage 40: transferred 3338 clusters with 61 clusters populated\n",
      "In stage 41: transferred 3433 clusters with 61 clusters populated\n",
      "In stage 42: transferred 3489 clusters with 61 clusters populated\n",
      "In stage 43: transferred 3349 clusters with 61 clusters populated\n",
      "In stage 44: transferred 3346 clusters with 61 clusters populated\n",
      "In stage 45: transferred 3489 clusters with 61 clusters populated\n",
      "In stage 46: transferred 3477 clusters with 61 clusters populated\n",
      "In stage 47: transferred 3314 clusters with 61 clusters populated\n",
      "In stage 48: transferred 3409 clusters with 61 clusters populated\n",
      "In stage 49: transferred 3361 clusters with 61 clusters populated\n",
      "In stage 50: transferred 3417 clusters with 61 clusters populated\n",
      "In stage 51: transferred 3390 clusters with 61 clusters populated\n",
      "In stage 52: transferred 3411 clusters with 61 clusters populated\n",
      "In stage 53: transferred 3449 clusters with 61 clusters populated\n",
      "In stage 54: transferred 3406 clusters with 61 clusters populated\n",
      "In stage 55: transferred 3370 clusters with 61 clusters populated\n",
      "In stage 56: transferred 3363 clusters with 61 clusters populated\n",
      "In stage 57: transferred 3338 clusters with 61 clusters populated\n",
      "In stage 58: transferred 3317 clusters with 61 clusters populated\n",
      "In stage 59: transferred 3400 clusters with 61 clusters populated\n",
      "In stage 60: transferred 3370 clusters with 61 clusters populated\n",
      "In stage 61: transferred 3359 clusters with 61 clusters populated\n",
      "In stage 62: transferred 3411 clusters with 61 clusters populated\n",
      "In stage 63: transferred 3435 clusters with 61 clusters populated\n",
      "In stage 64: transferred 3343 clusters with 61 clusters populated\n",
      "In stage 65: transferred 3366 clusters with 61 clusters populated\n",
      "In stage 66: transferred 3367 clusters with 61 clusters populated\n",
      "In stage 67: transferred 3289 clusters with 61 clusters populated\n",
      "In stage 68: transferred 3240 clusters with 61 clusters populated\n",
      "In stage 69: transferred 3338 clusters with 61 clusters populated\n",
      "In stage 70: transferred 3308 clusters with 61 clusters populated\n",
      "In stage 71: transferred 3309 clusters with 61 clusters populated\n"
     ]
    }
   ],
   "source": [
    "resultados = entrenar_y_evaluar_modelos_topicos(true_labels, modelos=[\"gsdmm_100\"],n_terms=n_term,documentos=documents)"
   ]
  },
  {
   "cell_type": "code",
   "execution_count": 4,
   "id": "dfe44e04",
   "metadata": {},
   "outputs": [
    {
     "data": {
      "text/html": [
       "<table>\n",
       "  <tr>\n",
       "    <th>Métrica</th>\n",
       "    <th>GSDMM_100</th>\n",
       "  </tr>\n",
       "  <tr>\n",
       "    <td>Adjusted Rand Score</td>\n",
       "    <td>0.2075 ± 0.0077</td>\n",
       "  </tr>\n",
       "  <tr>\n",
       "    <td>Normalized Mutual Info Score</td>\n",
       "    <td>0.4474 ± 0.0034</td>\n",
       "  </tr>\n",
       "  <tr>\n",
       "    <td>Fowlkes Mallows Score</td>\n",
       "    <td>0.2803 ± 0.0075</td>\n",
       "  </tr>\n",
       "  <tr>\n",
       "    <td>Bcubed Precision</td>\n",
       "    <td>0.4641 ± 0.0042</td>\n",
       "  </tr>\n",
       "  <tr>\n",
       "    <td>Bcubed Recall</td>\n",
       "    <td>0.2304 ± 0.0120</td>\n",
       "  </tr>\n",
       "  <tr>\n",
       "    <td>Bcubed F1</td>\n",
       "    <td>0.2448 ± 0.0081</td>\n",
       "  </tr>\n",
       "  <tr>\n",
       "    <td>Tiempo Entrenamiento</td>\n",
       "    <td>14594.9583 ± 221.8821</td>\n",
       "  </tr>\n",
       "</table>"
      ],
      "text/plain": [
       "<IPython.core.display.HTML object>"
      ]
     },
     "metadata": {},
     "output_type": "display_data"
    }
   ],
   "source": [
    "from IPython.display import display, HTML\n",
    "modelos_a_mostrar = ['gsdmm_100'] # Solo muestra estos modelos.\n",
    "tabla4_html = generar_tabla_metricas_fijas2(resultados, metricas_deseadas, modelos_a_mostrar)\n",
    "display(HTML(tabla4_html))"
   ]
  },
  {
   "cell_type": "markdown",
   "id": "71827fb2",
   "metadata": {},
   "source": [
    "### Otro entrenamiento de GSDMM con 30 iteraciones "
   ]
  },
  {
   "cell_type": "code",
   "execution_count": 18,
   "id": "b1166e80",
   "metadata": {},
   "outputs": [
    {
     "data": {
      "text/html": [
       "<table>\n",
       "  <tr>\n",
       "    <th>Métrica</th>\n",
       "    <th>GSDMM</th>\n",
       "  </tr>\n",
       "  <tr>\n",
       "    <td>Adjusted Rand Score</td>\n",
       "    <td>0.2056 ± 0.0199</td>\n",
       "  </tr>\n",
       "  <tr>\n",
       "    <td>Normalized Mutual Info Score</td>\n",
       "    <td>0.4437 ± 0.0032</td>\n",
       "  </tr>\n",
       "  <tr>\n",
       "    <td>Fowlkes Mallows Score</td>\n",
       "    <td>0.2769 ± 0.0200</td>\n",
       "  </tr>\n",
       "  <tr>\n",
       "    <td>Bcubed Precision</td>\n",
       "    <td>0.4591 ± 0.0025</td>\n",
       "  </tr>\n",
       "  <tr>\n",
       "    <td>Bcubed Recall</td>\n",
       "    <td>0.2320 ± 0.0144</td>\n",
       "  </tr>\n",
       "  <tr>\n",
       "    <td>Bcubed F1</td>\n",
       "    <td>0.2433 ± 0.0152</td>\n",
       "  </tr>\n",
       "  <tr>\n",
       "    <td>Tiempo Entrenamiento</td>\n",
       "    <td>4435.0917 ± 37.0536</td>\n",
       "  </tr>\n",
       "</table>"
      ],
      "text/plain": [
       "<IPython.core.display.HTML object>"
      ]
     },
     "metadata": {},
     "output_type": "display_data"
    }
   ],
   "source": [
    "modelos_a_mostrar = ['gsdmm'] # Solo muestra estos modelos.\n",
    "tabla5_html = generar_tabla_metricas_fijas2(resultados2, metricas_deseadas, modelos_a_mostrar)\n",
    "display(HTML(tabla5_html))"
   ]
  },
  {
   "cell_type": "markdown",
   "id": "442b95f8",
   "metadata": {},
   "source": [
    "### BERTOPIC"
   ]
  },
  {
   "cell_type": "code",
   "execution_count": 16,
   "id": "8327194d",
   "metadata": {},
   "outputs": [],
   "source": [
    "with open('resultados_modelos.pkl', 'rb') as archivo:\n",
    "    resultados = pickle.load(archivo)"
   ]
  },
  {
   "cell_type": "code",
   "execution_count": 29,
   "id": "556ffb88",
   "metadata": {},
   "outputs": [
    {
     "data": {
      "text/plain": [
       "0        Equipo Flip-Flap Me dirijo a ustedes aprovecha...\n",
       "1        Instalación deportiva para gimnasia deportiva ...\n",
       "2        Duda Permisos Hola, escribo en nombre de un gr...\n",
       "3        Noches Jueves viernes y sábado Cada vez es más...\n",
       "4        Falta de instalaciones deportivas Somos una fa...\n",
       "                               ...                        \n",
       "66450    Reposición o reparación de cubo de basura Buen...\n",
       "66451    Baldosas defectuosas Justo en la puerta de la ...\n",
       "66452    Aviso de que reclamación sigue sin respuesta  ...\n",
       "66453    Recogida de basura  Buenos dias, muestro mi ma...\n",
       "66454    Residencia xiort pontoneros- madre Rafols Buen...\n",
       "Name: texto, Length: 66455, dtype: object"
      ]
     },
     "execution_count": 29,
     "metadata": {},
     "output_type": "execute_result"
    }
   ],
   "source": [
    "#Si utilizamos documentos originales\n",
    "documents_original=df_preprocesado['texto']\n",
    "documents_original"
   ]
  },
  {
   "cell_type": "code",
   "execution_count": 37,
   "id": "faac4503",
   "metadata": {},
   "outputs": [
    {
     "name": "stderr",
     "output_type": "stream",
     "text": [
      "2025-03-21 18:32:38,213 - BERTopic - Embedding - Transforming documents to embeddings.\n"
     ]
    },
    {
     "data": {
      "application/vnd.jupyter.widget-view+json": {
       "model_id": "f69eeb7c28ce4a9f815584c84b161b47",
       "version_major": 2,
       "version_minor": 0
      },
      "text/plain": [
       "Batches:   0%|          | 0/2077 [00:00<?, ?it/s]"
      ]
     },
     "metadata": {},
     "output_type": "display_data"
    },
    {
     "name": "stderr",
     "output_type": "stream",
     "text": [
      "2025-03-21 18:46:02,589 - BERTopic - Embedding - Completed ✓\n",
      "2025-03-21 18:46:02,589 - BERTopic - Dimensionality - Fitting the dimensionality reduction algorithm\n",
      "2025-03-21 18:46:14,359 - BERTopic - Dimensionality - Completed ✓\n",
      "2025-03-21 18:46:14,359 - BERTopic - Cluster - Start clustering the reduced embeddings\n",
      "2025-03-21 18:46:17,115 - BERTopic - Cluster - Completed ✓\n",
      "2025-03-21 18:46:17,115 - BERTopic - Representation - Extracting topics from clusters using representation models.\n",
      "2025-03-21 18:46:19,380 - BERTopic - Representation - Completed ✓\n",
      "2025-03-21 18:46:19,388 - BERTopic - Topic reduction - Reducing number of topics\n",
      "2025-03-21 18:46:21,566 - BERTopic - Topic reduction - Reduced number of topics from 493 to 61\n",
      "C:\\Users\\Runob\\anaconda3\\Lib\\site-packages\\scipy\\sparse\\_index.py:143: SparseEfficiencyWarning: Changing the sparsity structure of a csr_matrix is expensive. lil_matrix is more efficient.\n",
      "  self._set_arrayXarray(i, j, x)\n",
      "2025-03-21 18:46:25,242 - BERTopic - Embedding - Transforming documents to embeddings.\n"
     ]
    },
    {
     "data": {
      "application/vnd.jupyter.widget-view+json": {
       "model_id": "d083ccbc5cf04d28a0d2a1d536468370",
       "version_major": 2,
       "version_minor": 0
      },
      "text/plain": [
       "Batches:   0%|          | 0/2077 [00:00<?, ?it/s]"
      ]
     },
     "metadata": {},
     "output_type": "display_data"
    },
    {
     "name": "stderr",
     "output_type": "stream",
     "text": [
      "2025-03-21 19:00:06,765 - BERTopic - Embedding - Completed ✓\n",
      "2025-03-21 19:00:06,765 - BERTopic - Dimensionality - Fitting the dimensionality reduction algorithm\n",
      "2025-03-21 19:00:18,701 - BERTopic - Dimensionality - Completed ✓\n",
      "2025-03-21 19:00:18,701 - BERTopic - Cluster - Start clustering the reduced embeddings\n",
      "2025-03-21 19:00:21,418 - BERTopic - Cluster - Completed ✓\n",
      "2025-03-21 19:00:21,419 - BERTopic - Representation - Extracting topics from clusters using representation models.\n",
      "2025-03-21 19:00:23,686 - BERTopic - Representation - Completed ✓\n",
      "2025-03-21 19:00:23,691 - BERTopic - Topic reduction - Reducing number of topics\n",
      "2025-03-21 19:00:25,983 - BERTopic - Topic reduction - Reduced number of topics from 483 to 61\n",
      "C:\\Users\\Runob\\anaconda3\\Lib\\site-packages\\scipy\\sparse\\_index.py:143: SparseEfficiencyWarning: Changing the sparsity structure of a csr_matrix is expensive. lil_matrix is more efficient.\n",
      "  self._set_arrayXarray(i, j, x)\n",
      "2025-03-21 19:00:29,826 - BERTopic - Embedding - Transforming documents to embeddings.\n"
     ]
    },
    {
     "data": {
      "application/vnd.jupyter.widget-view+json": {
       "model_id": "0799eda3a91446a9a5f2fd479e58534e",
       "version_major": 2,
       "version_minor": 0
      },
      "text/plain": [
       "Batches:   0%|          | 0/2077 [00:00<?, ?it/s]"
      ]
     },
     "metadata": {},
     "output_type": "display_data"
    },
    {
     "name": "stderr",
     "output_type": "stream",
     "text": [
      "2025-03-21 19:14:04,753 - BERTopic - Embedding - Completed ✓\n",
      "2025-03-21 19:14:04,753 - BERTopic - Dimensionality - Fitting the dimensionality reduction algorithm\n",
      "2025-03-21 19:14:16,783 - BERTopic - Dimensionality - Completed ✓\n",
      "2025-03-21 19:14:16,783 - BERTopic - Cluster - Start clustering the reduced embeddings\n",
      "2025-03-21 19:14:19,478 - BERTopic - Cluster - Completed ✓\n",
      "2025-03-21 19:14:19,478 - BERTopic - Representation - Extracting topics from clusters using representation models.\n",
      "2025-03-21 19:14:21,757 - BERTopic - Representation - Completed ✓\n",
      "2025-03-21 19:14:21,771 - BERTopic - Topic reduction - Reducing number of topics\n",
      "2025-03-21 19:14:23,983 - BERTopic - Topic reduction - Reduced number of topics from 509 to 61\n",
      "C:\\Users\\Runob\\anaconda3\\Lib\\site-packages\\scipy\\sparse\\_index.py:143: SparseEfficiencyWarning: Changing the sparsity structure of a csr_matrix is expensive. lil_matrix is more efficient.\n",
      "  self._set_arrayXarray(i, j, x)\n",
      "2025-03-21 19:14:27,629 - BERTopic - Embedding - Transforming documents to embeddings.\n"
     ]
    },
    {
     "data": {
      "application/vnd.jupyter.widget-view+json": {
       "model_id": "bb0a6804ac874bd98374553e572ea214",
       "version_major": 2,
       "version_minor": 0
      },
      "text/plain": [
       "Batches:   0%|          | 0/2077 [00:00<?, ?it/s]"
      ]
     },
     "metadata": {},
     "output_type": "display_data"
    },
    {
     "name": "stderr",
     "output_type": "stream",
     "text": [
      "2025-03-21 19:28:04,536 - BERTopic - Embedding - Completed ✓\n",
      "2025-03-21 19:28:04,536 - BERTopic - Dimensionality - Fitting the dimensionality reduction algorithm\n",
      "2025-03-21 19:28:16,989 - BERTopic - Dimensionality - Completed ✓\n",
      "2025-03-21 19:28:16,989 - BERTopic - Cluster - Start clustering the reduced embeddings\n",
      "2025-03-21 19:28:19,789 - BERTopic - Cluster - Completed ✓\n",
      "2025-03-21 19:28:19,789 - BERTopic - Representation - Extracting topics from clusters using representation models.\n",
      "2025-03-21 19:28:22,174 - BERTopic - Representation - Completed ✓\n",
      "2025-03-21 19:28:22,195 - BERTopic - Topic reduction - Reducing number of topics\n",
      "2025-03-21 19:28:24,542 - BERTopic - Topic reduction - Reduced number of topics from 485 to 61\n",
      "C:\\Users\\Runob\\anaconda3\\Lib\\site-packages\\scipy\\sparse\\_index.py:143: SparseEfficiencyWarning: Changing the sparsity structure of a csr_matrix is expensive. lil_matrix is more efficient.\n",
      "  self._set_arrayXarray(i, j, x)\n",
      "2025-03-21 19:28:28,307 - BERTopic - Embedding - Transforming documents to embeddings.\n"
     ]
    },
    {
     "data": {
      "application/vnd.jupyter.widget-view+json": {
       "model_id": "9071445c63b34c9facb30d29075c0e2d",
       "version_major": 2,
       "version_minor": 0
      },
      "text/plain": [
       "Batches:   0%|          | 0/2077 [00:00<?, ?it/s]"
      ]
     },
     "metadata": {},
     "output_type": "display_data"
    },
    {
     "name": "stderr",
     "output_type": "stream",
     "text": [
      "2025-03-21 19:42:11,955 - BERTopic - Embedding - Completed ✓\n",
      "2025-03-21 19:42:11,955 - BERTopic - Dimensionality - Fitting the dimensionality reduction algorithm\n",
      "2025-03-21 19:42:22,231 - BERTopic - Dimensionality - Completed ✓\n",
      "2025-03-21 19:42:22,231 - BERTopic - Cluster - Start clustering the reduced embeddings\n",
      "2025-03-21 19:42:25,028 - BERTopic - Cluster - Completed ✓\n",
      "2025-03-21 19:42:25,028 - BERTopic - Representation - Extracting topics from clusters using representation models.\n",
      "2025-03-21 19:42:27,327 - BERTopic - Representation - Completed ✓\n",
      "2025-03-21 19:42:27,327 - BERTopic - Topic reduction - Reducing number of topics\n",
      "2025-03-21 19:42:29,676 - BERTopic - Topic reduction - Reduced number of topics from 525 to 61\n",
      "C:\\Users\\Runob\\anaconda3\\Lib\\site-packages\\scipy\\sparse\\_index.py:143: SparseEfficiencyWarning: Changing the sparsity structure of a csr_matrix is expensive. lil_matrix is more efficient.\n",
      "  self._set_arrayXarray(i, j, x)\n"
     ]
    }
   ],
   "source": [
    "resultados = entrenar_y_evaluar_modelos_topicos(true_labels, modelos=[\"bertopic\"],documentos=documents_original)"
   ]
  },
  {
   "cell_type": "code",
   "execution_count": 41,
   "id": "48094fa4",
   "metadata": {},
   "outputs": [
    {
     "name": "stderr",
     "output_type": "stream",
     "text": [
      "2025-03-21 19:53:19,192 - BERTopic - Embedding - Transforming documents to embeddings.\n"
     ]
    },
    {
     "data": {
      "application/vnd.jupyter.widget-view+json": {
       "model_id": "efbb7251f8d34033a65f83ca50008a11",
       "version_major": 2,
       "version_minor": 0
      },
      "text/plain": [
       "Batches:   0%|          | 0/2077 [00:00<?, ?it/s]"
      ]
     },
     "metadata": {},
     "output_type": "display_data"
    },
    {
     "name": "stderr",
     "output_type": "stream",
     "text": [
      "2025-03-21 20:42:23,917 - BERTopic - Embedding - Completed ✓\n",
      "2025-03-21 20:42:23,917 - BERTopic - Dimensionality - Fitting the dimensionality reduction algorithm\n",
      "2025-03-21 20:42:37,614 - BERTopic - Dimensionality - Completed ✓\n",
      "2025-03-21 20:42:37,614 - BERTopic - Cluster - Start clustering the reduced embeddings\n",
      "2025-03-21 20:42:41,253 - BERTopic - Cluster - Completed ✓\n",
      "2025-03-21 20:42:41,253 - BERTopic - Representation - Extracting topics from clusters using representation models.\n",
      "2025-03-21 20:42:43,609 - BERTopic - Representation - Completed ✓\n",
      "2025-03-21 20:42:43,621 - BERTopic - Topic reduction - Reducing number of topics\n",
      "2025-03-21 20:42:45,750 - BERTopic - Topic reduction - Reduced number of topics from 405 to 61\n",
      "C:\\Users\\Runob\\anaconda3\\Lib\\site-packages\\scipy\\sparse\\_index.py:143: SparseEfficiencyWarning: Changing the sparsity structure of a csr_matrix is expensive. lil_matrix is more efficient.\n",
      "  self._set_arrayXarray(i, j, x)\n",
      "2025-03-21 20:42:51,583 - BERTopic - Embedding - Transforming documents to embeddings.\n"
     ]
    },
    {
     "data": {
      "application/vnd.jupyter.widget-view+json": {
       "model_id": "61952d5b082c4a8ab493cb2e08b5113a",
       "version_major": 2,
       "version_minor": 0
      },
      "text/plain": [
       "Batches:   0%|          | 0/2077 [00:00<?, ?it/s]"
      ]
     },
     "metadata": {},
     "output_type": "display_data"
    },
    {
     "name": "stderr",
     "output_type": "stream",
     "text": [
      "2025-03-21 21:31:58,292 - BERTopic - Embedding - Completed ✓\n",
      "2025-03-21 21:31:58,292 - BERTopic - Dimensionality - Fitting the dimensionality reduction algorithm\n",
      "2025-03-21 21:32:11,946 - BERTopic - Dimensionality - Completed ✓\n",
      "2025-03-21 21:32:11,946 - BERTopic - Cluster - Start clustering the reduced embeddings\n",
      "2025-03-21 21:32:15,505 - BERTopic - Cluster - Completed ✓\n",
      "2025-03-21 21:32:15,505 - BERTopic - Representation - Extracting topics from clusters using representation models.\n",
      "2025-03-21 21:32:17,780 - BERTopic - Representation - Completed ✓\n",
      "2025-03-21 21:32:17,797 - BERTopic - Topic reduction - Reducing number of topics\n",
      "2025-03-21 21:32:19,975 - BERTopic - Topic reduction - Reduced number of topics from 395 to 61\n",
      "C:\\Users\\Runob\\anaconda3\\Lib\\site-packages\\scipy\\sparse\\_index.py:143: SparseEfficiencyWarning: Changing the sparsity structure of a csr_matrix is expensive. lil_matrix is more efficient.\n",
      "  self._set_arrayXarray(i, j, x)\n",
      "2025-03-21 21:32:26,807 - BERTopic - Embedding - Transforming documents to embeddings.\n"
     ]
    },
    {
     "data": {
      "application/vnd.jupyter.widget-view+json": {
       "model_id": "70c6e4baacaf4828b1c14640d32eb037",
       "version_major": 2,
       "version_minor": 0
      },
      "text/plain": [
       "Batches:   0%|          | 0/2077 [00:00<?, ?it/s]"
      ]
     },
     "metadata": {},
     "output_type": "display_data"
    },
    {
     "name": "stderr",
     "output_type": "stream",
     "text": [
      "2025-03-21 22:21:33,549 - BERTopic - Embedding - Completed ✓\n",
      "2025-03-21 22:21:33,549 - BERTopic - Dimensionality - Fitting the dimensionality reduction algorithm\n",
      "2025-03-21 22:21:47,190 - BERTopic - Dimensionality - Completed ✓\n",
      "2025-03-21 22:21:47,190 - BERTopic - Cluster - Start clustering the reduced embeddings\n",
      "2025-03-21 22:21:50,695 - BERTopic - Cluster - Completed ✓\n",
      "2025-03-21 22:21:50,695 - BERTopic - Representation - Extracting topics from clusters using representation models.\n",
      "2025-03-21 22:21:53,001 - BERTopic - Representation - Completed ✓\n",
      "2025-03-21 22:21:53,016 - BERTopic - Topic reduction - Reducing number of topics\n",
      "2025-03-21 22:21:55,157 - BERTopic - Topic reduction - Reduced number of topics from 382 to 61\n",
      "C:\\Users\\Runob\\anaconda3\\Lib\\site-packages\\scipy\\sparse\\_index.py:143: SparseEfficiencyWarning: Changing the sparsity structure of a csr_matrix is expensive. lil_matrix is more efficient.\n",
      "  self._set_arrayXarray(i, j, x)\n",
      "2025-03-21 22:22:01,077 - BERTopic - Embedding - Transforming documents to embeddings.\n"
     ]
    },
    {
     "data": {
      "application/vnd.jupyter.widget-view+json": {
       "model_id": "fc2aecaee2df405683fc11b5b654b291",
       "version_major": 2,
       "version_minor": 0
      },
      "text/plain": [
       "Batches:   0%|          | 0/2077 [00:00<?, ?it/s]"
      ]
     },
     "metadata": {},
     "output_type": "display_data"
    },
    {
     "name": "stderr",
     "output_type": "stream",
     "text": [
      "2025-03-21 23:11:04,278 - BERTopic - Embedding - Completed ✓\n",
      "2025-03-21 23:11:04,278 - BERTopic - Dimensionality - Fitting the dimensionality reduction algorithm\n",
      "2025-03-21 23:11:17,955 - BERTopic - Dimensionality - Completed ✓\n",
      "2025-03-21 23:11:17,955 - BERTopic - Cluster - Start clustering the reduced embeddings\n",
      "2025-03-21 23:11:21,817 - BERTopic - Cluster - Completed ✓\n",
      "2025-03-21 23:11:21,817 - BERTopic - Representation - Extracting topics from clusters using representation models.\n",
      "2025-03-21 23:11:24,104 - BERTopic - Representation - Completed ✓\n",
      "2025-03-21 23:11:24,110 - BERTopic - Topic reduction - Reducing number of topics\n",
      "2025-03-21 23:11:26,284 - BERTopic - Topic reduction - Reduced number of topics from 409 to 61\n",
      "C:\\Users\\Runob\\anaconda3\\Lib\\site-packages\\scipy\\sparse\\_index.py:143: SparseEfficiencyWarning: Changing the sparsity structure of a csr_matrix is expensive. lil_matrix is more efficient.\n",
      "  self._set_arrayXarray(i, j, x)\n",
      "2025-03-21 23:11:32,031 - BERTopic - Embedding - Transforming documents to embeddings.\n"
     ]
    },
    {
     "data": {
      "application/vnd.jupyter.widget-view+json": {
       "model_id": "1352cf3f787940e3956e05d178e29ead",
       "version_major": 2,
       "version_minor": 0
      },
      "text/plain": [
       "Batches:   0%|          | 0/2077 [00:00<?, ?it/s]"
      ]
     },
     "metadata": {},
     "output_type": "display_data"
    },
    {
     "name": "stderr",
     "output_type": "stream",
     "text": [
      "2025-03-22 00:00:36,800 - BERTopic - Embedding - Completed ✓\n",
      "2025-03-22 00:00:36,800 - BERTopic - Dimensionality - Fitting the dimensionality reduction algorithm\n",
      "2025-03-22 00:00:48,560 - BERTopic - Dimensionality - Completed ✓\n",
      "2025-03-22 00:00:48,560 - BERTopic - Cluster - Start clustering the reduced embeddings\n",
      "2025-03-22 00:00:52,117 - BERTopic - Cluster - Completed ✓\n",
      "2025-03-22 00:00:52,117 - BERTopic - Representation - Extracting topics from clusters using representation models.\n",
      "2025-03-22 00:00:54,452 - BERTopic - Representation - Completed ✓\n",
      "2025-03-22 00:00:54,473 - BERTopic - Topic reduction - Reducing number of topics\n",
      "2025-03-22 00:00:56,679 - BERTopic - Topic reduction - Reduced number of topics from 309 to 61\n",
      "C:\\Users\\Runob\\anaconda3\\Lib\\site-packages\\scipy\\sparse\\_index.py:143: SparseEfficiencyWarning: Changing the sparsity structure of a csr_matrix is expensive. lil_matrix is more efficient.\n",
      "  self._set_arrayXarray(i, j, x)\n"
     ]
    }
   ],
   "source": [
    "resultados = entrenar_y_evaluar_modelos_topicos(true_labels, modelos=[\"bertopic_Roberta\"],documentos=documents_original)"
   ]
  },
  {
   "cell_type": "markdown",
   "id": "bec3854d",
   "metadata": {},
   "source": [
    "### Comparación entre los tres modelos entrenados de BERTopics"
   ]
  },
  {
   "cell_type": "code",
   "execution_count": 42,
   "id": "11c644e6",
   "metadata": {},
   "outputs": [
    {
     "data": {
      "text/html": [
       "<table>\n",
       "  <tr>\n",
       "    <th>Métrica</th>\n",
       "    <th>BERTOPIC</th>\n",
       "    <th>BERTOPIC_ROBERTA</th>\n",
       "    <th>BERTOPIC_PREPROCESADO</th>\n",
       "  </tr>\n",
       "  <tr>\n",
       "    <td>Adjusted Rand Score</td>\n",
       "    <td>0.0465 ± 0.0114</td>\n",
       "    <td>0.0119 ± 0.0018</td>\n",
       "    <td>0.0478 ± 0.0084</td>\n",
       "  </tr>\n",
       "  <tr>\n",
       "    <td>Normalized Mutual Info Score</td>\n",
       "    <td>0.2717 ± 0.0108</td>\n",
       "    <td>0.1422 ± 0.0100</td>\n",
       "    <td>0.2300 ± 0.0097</td>\n",
       "  </tr>\n",
       "  <tr>\n",
       "    <td>Fowlkes Mallows Score</td>\n",
       "    <td>0.1910 ± 0.0085</td>\n",
       "    <td>0.1946 ± 0.0186</td>\n",
       "    <td>0.1965 ± 0.0070</td>\n",
       "  </tr>\n",
       "  <tr>\n",
       "    <td>Bcubed Precision</td>\n",
       "    <td>0.2483 ± 0.0091</td>\n",
       "    <td>0.1667 ± 0.0042</td>\n",
       "    <td>0.2069 ± 0.0077</td>\n",
       "  </tr>\n",
       "  <tr>\n",
       "    <td>Bcubed Recall</td>\n",
       "    <td>0.3225 ± 0.0109</td>\n",
       "    <td>0.4019 ± 0.0760</td>\n",
       "    <td>0.3331 ± 0.0139</td>\n",
       "  </tr>\n",
       "  <tr>\n",
       "    <td>Bcubed F1</td>\n",
       "    <td>0.1780 ± 0.0125</td>\n",
       "    <td>0.1449 ± 0.0044</td>\n",
       "    <td>0.1742 ± 0.0131</td>\n",
       "  </tr>\n",
       "  <tr>\n",
       "    <td>Tiempo Entrenamiento</td>\n",
       "    <td>0.0000 ± 0.0000</td>\n",
       "    <td>1484.5316 ± 1484.5321</td>\n",
       "    <td>613.9711 ± 119.3045</td>\n",
       "  </tr>\n",
       "</table>"
      ],
      "text/plain": [
       "<IPython.core.display.HTML object>"
      ]
     },
     "metadata": {},
     "output_type": "display_data"
    }
   ],
   "source": [
    "modelos_a_mostrar = ['bertopic','bertopic_Roberta', 'bertopic_preprocesado'] # Solo muestra estos modelos.\n",
    "\n",
    "tabla_html2 = generar_tabla_metricas_fijas2(resultados, metricas_deseadas, modelos_a_mostrar)\n",
    "display(HTML(tabla_html2))"
   ]
  },
  {
   "cell_type": "markdown",
   "id": "1d85fb60",
   "metadata": {},
   "source": [
    "### Aglomerative"
   ]
  },
  {
   "cell_type": "code",
   "execution_count": 2,
   "id": "2eb03ee1",
   "metadata": {},
   "outputs": [],
   "source": [
    "with open('resultados_modelos.pkl', 'rb') as archivo:\n",
    "    resultados = pickle.load(archivo)"
   ]
  },
  {
   "cell_type": "code",
   "execution_count": 22,
   "id": "22b8bef9",
   "metadata": {},
   "outputs": [],
   "source": [
    "with open('all_document_vectors.pkl', 'rb') as archivo:\n",
    "    all_document_vectors = pickle.load(archivo)"
   ]
  },
  {
   "cell_type": "code",
   "execution_count": 24,
   "id": "eb53182b",
   "metadata": {},
   "outputs": [],
   "source": [
    "resultados = generar_y_evaluar_modelos_topicos(true_labels, modelos=[\"agglomerative_word2vec\"],documentos=all_document_vectors[\"w2v_250_epochs\"])"
   ]
  },
  {
   "cell_type": "code",
   "execution_count": 34,
   "id": "21d405dc",
   "metadata": {},
   "outputs": [],
   "source": [
    "resultados = generar_y_evaluar_modelos_topicos(true_labels, modelos=[\"agglomerative_Tfidf\"],documentos=documents)"
   ]
  },
  {
   "cell_type": "code",
   "execution_count": 7,
   "id": "5df84ab8",
   "metadata": {},
   "outputs": [
    {
     "data": {
      "text/html": [
       "<table>\n",
       "  <tr>\n",
       "    <th>Métrica</th>\n",
       "    <th>AGGLOMERATIVE_WORD2VEC</th>\n",
       "    <th>AGGLOMERATIVE</th>\n",
       "    <th>AGGLOMERATIVE_TFIDF</th>\n",
       "  </tr>\n",
       "  <tr>\n",
       "    <td>Adjusted Rand Score</td>\n",
       "    <td>0.1438 ± 0.0000</td>\n",
       "    <td>0.1533 ± 0.0000</td>\n",
       "    <td>0.0767 ± 0.0000</td>\n",
       "  </tr>\n",
       "  <tr>\n",
       "    <td>Normalized Mutual Info Score</td>\n",
       "    <td>0.4280 ± 0.0000</td>\n",
       "    <td>0.4188 ± 0.0000</td>\n",
       "    <td>0.3181 ± 0.0000</td>\n",
       "  </tr>\n",
       "  <tr>\n",
       "    <td>Fowlkes Mallows Score</td>\n",
       "    <td>0.2203 ± 0.0000</td>\n",
       "    <td>0.2296 ± 0.0000</td>\n",
       "    <td>0.1611 ± 0.0000</td>\n",
       "  </tr>\n",
       "  <tr>\n",
       "    <td>Bcubed Precision</td>\n",
       "    <td>0.4712 ± 0.0000</td>\n",
       "    <td>0.4654 ± 0.0000</td>\n",
       "    <td>0.3397 ± 0.0000</td>\n",
       "  </tr>\n",
       "  <tr>\n",
       "    <td>Bcubed Recall</td>\n",
       "    <td>0.1583 ± 0.0000</td>\n",
       "    <td>0.1662 ± 0.0000</td>\n",
       "    <td>0.1961 ± 0.0000</td>\n",
       "  </tr>\n",
       "  <tr>\n",
       "    <td>Bcubed F1</td>\n",
       "    <td>0.1858 ± 0.0000</td>\n",
       "    <td>0.1909 ± 0.0000</td>\n",
       "    <td>0.1639 ± 0.0000</td>\n",
       "  </tr>\n",
       "  <tr>\n",
       "    <td>Tiempo Entrenamiento</td>\n",
       "    <td>11360.0097 ± 0.0000</td>\n",
       "    <td>11564.0873 ± 1716.6420</td>\n",
       "    <td>3193.6339 ± 7141.1825</td>\n",
       "  </tr>\n",
       "</table>"
      ],
      "text/plain": [
       "<IPython.core.display.HTML object>"
      ]
     },
     "metadata": {},
     "output_type": "display_data"
    }
   ],
   "source": [
    "modelos_a_mostrar = ['agglomerative_word2vec','agglomerative',\"agglomerative_Tfidf\"] # Solo muestra estos modelos.\n",
    "\n",
    "tabla_html6 = generar_tabla_metricas_fijas2(resultados, metricas_deseadas, modelos_a_mostrar)\n",
    "display(HTML(tabla_html6))"
   ]
  },
  {
   "cell_type": "markdown",
   "id": "fbc4ba68",
   "metadata": {},
   "source": [
    "### Kmeans_word2vec"
   ]
  },
  {
   "cell_type": "code",
   "execution_count": 8,
   "id": "ca0ef23f",
   "metadata": {},
   "outputs": [],
   "source": [
    "with open('resultados_modelos.pkl', 'rb') as archivo:\n",
    "    resultados = pickle.load(archivo)"
   ]
  },
  {
   "cell_type": "markdown",
   "id": "4c6dbaa3",
   "metadata": {},
   "source": [
    "#### Generar modelos partiendo de Word2Vec entre 100 y 250 epocs "
   ]
  },
  {
   "cell_type": "code",
   "execution_count": 5,
   "id": "77365f36-957d-4959-8757-a7311668a813",
   "metadata": {},
   "outputs": [],
   "source": [
    "epochs_to_test = [100, 150, 200, 250]  # Números de épocas a probar\n",
    "all_document_vectors = {}  # Diccionario para almacenar los vectores de documentos\n",
    "\n",
    "for epochs in epochs_to_test:\n",
    "    model_name = f\"w2v_{epochs}_epochs\"\n",
    "    model = Word2Vec(\n",
    "        sentences=documents, vector_size=100, window=5, min_count=1, workers=4, seed=42\n",
    "    )\n",
    "    model.train(documents, total_examples=len(documents), epochs=epochs)\n",
    "    model.save(f\"w2v_{epochs}_epochs.model\") #guardamos el modelo.\n",
    "    document_vectors = get_document_vectors(model, documents)\n",
    "    document_vectors = [vector for vector in document_vectors if vector is not None]\n",
    "    document_vectors = np.array(document_vectors)\n",
    "    all_document_vectors[model_name] = document_vectors  # Guardamos los vectores de documentos."
   ]
  },
  {
   "cell_type": "code",
   "execution_count": 33,
   "id": "eb1008bb-ca15-4cc0-a09b-33fa1f847cde",
   "metadata": {},
   "outputs": [],
   "source": [
    "with open('all_document_vectors.pkl', \"wb\") as archivo:\n",
    "                    pickle.dump(all_document_vectors, archivo)"
   ]
  },
  {
   "cell_type": "code",
   "execution_count": 38,
   "id": "ac6e6c39-0a33-4774-91c7-f483e99d295f",
   "metadata": {},
   "outputs": [],
   "source": [
    "resultados_word2vec={}"
   ]
  },
  {
   "cell_type": "code",
   "execution_count": 39,
   "id": "7940905d",
   "metadata": {},
   "outputs": [],
   "source": [
    "resultados_word2vec[\"kmeans_word2vec_100\"] = generar_y_evaluar_modelos_topicos(true_labels, modelos=[\"kmeans_word2vec_100\"],documentos=all_document_vectors[\"w2v_100_epochs\"])"
   ]
  },
  {
   "cell_type": "code",
   "execution_count": 41,
   "id": "9f9177d6",
   "metadata": {},
   "outputs": [],
   "source": [
    "resultados = generar_y_evaluar_modelos_topicos(true_labels, modelos=[\"kmeans_word2vec_150\"],documentos=all_document_vectors[\"w2v_150_epochs\"])"
   ]
  },
  {
   "cell_type": "code",
   "execution_count": 43,
   "id": "fd0e5c57-15f1-44d6-9d08-d79adaa9de06",
   "metadata": {},
   "outputs": [],
   "source": [
    "resultados = generar_y_evaluar_modelos_topicos(true_labels, modelos=[\"kmeans_word2vec_200\"],documentos=all_document_vectors[\"w2v_200_epochs\"])"
   ]
  },
  {
   "cell_type": "code",
   "execution_count": 44,
   "id": "04415b6f-4a3e-43f6-a761-da0121422e39",
   "metadata": {},
   "outputs": [],
   "source": [
    "resultados = generar_y_evaluar_modelos_topicos(true_labels, modelos=[\"kmeans_word2vec_250\"],documentos=all_document_vectors[\"w2v_250_epochs\"])"
   ]
  },
  {
   "cell_type": "code",
   "execution_count": 13,
   "id": "6d7f430d",
   "metadata": {},
   "outputs": [],
   "source": [
    "tabla2 = generar_tabla_metricas_fijas(resultados, metricas_deseadas)"
   ]
  },
  {
   "cell_type": "code",
   "execution_count": 46,
   "id": "2aabdbd5-b1a1-4826-8046-a897d0da13e2",
   "metadata": {},
   "outputs": [
    {
     "data": {
      "text/html": [
       "<table>\n",
       "  <tr>\n",
       "    <th>Métrica</th>\n",
       "    <th>KMEANS_WORD2VEC_100</th>\n",
       "    <th>KMEANS_WORD2VEC_200</th>\n",
       "    <th>KMEANS_WORD2VEC_250</th>\n",
       "  </tr>\n",
       "  <tr>\n",
       "    <td>Adjusted Rand Score</td>\n",
       "    <td>0.1252 ± 0.0032</td>\n",
       "    <td>0.1258 ± 0.0038</td>\n",
       "    <td>0.1256 ± 0.0058</td>\n",
       "  </tr>\n",
       "  <tr>\n",
       "    <td>Normalized Mutual Info Score</td>\n",
       "    <td>0.4152 ± 0.0025</td>\n",
       "    <td>0.4157 ± 0.0019</td>\n",
       "    <td>0.4161 ± 0.0019</td>\n",
       "  </tr>\n",
       "  <tr>\n",
       "    <td>Fowlkes Mallows Score</td>\n",
       "    <td>0.2008 ± 0.0039</td>\n",
       "    <td>0.2020 ± 0.0046</td>\n",
       "    <td>0.2018 ± 0.0069</td>\n",
       "  </tr>\n",
       "  <tr>\n",
       "    <td>Bcubed Precision</td>\n",
       "    <td>0.4700 ± 0.0035</td>\n",
       "    <td>0.4684 ± 0.0016</td>\n",
       "    <td>0.4690 ± 0.0022</td>\n",
       "  </tr>\n",
       "  <tr>\n",
       "    <td>Bcubed Recall</td>\n",
       "    <td>0.1394 ± 0.0021</td>\n",
       "    <td>0.1380 ± 0.0033</td>\n",
       "    <td>0.1392 ± 0.0048</td>\n",
       "  </tr>\n",
       "  <tr>\n",
       "    <td>Bcubed F1</td>\n",
       "    <td>0.1696 ± 0.0036</td>\n",
       "    <td>0.1685 ± 0.0040</td>\n",
       "    <td>0.1703 ± 0.0063</td>\n",
       "  </tr>\n",
       "  <tr>\n",
       "    <td>Tiempo Entrenamiento</td>\n",
       "    <td>1.1288 ± 0.0132</td>\n",
       "    <td>1.1232 ± 0.0385</td>\n",
       "    <td>1.1351 ± 0.0245</td>\n",
       "  </tr>\n",
       "</table>"
      ],
      "text/plain": [
       "<IPython.core.display.HTML object>"
      ]
     },
     "metadata": {},
     "output_type": "display_data"
    }
   ],
   "source": [
    "modelos_a_mostrar = ['kmeans_word2vec_100','kmeans_word2vec_200','kmeans_word2vec_250'] # Solo muestra estos modelos.\n",
    "\n",
    "tabla_html = generar_tabla_metricas_fijas2(resultados, metricas_deseadas, modelos_a_mostrar)\n",
    "display(HTML(tabla_html))"
   ]
  },
  {
   "cell_type": "markdown",
   "id": "3f50b1d0-3c58-4801-b41b-550ec044de1c",
   "metadata": {},
   "source": [
    "### KMEANS tfidf"
   ]
  },
  {
   "cell_type": "code",
   "execution_count": 8,
   "id": "09524d39-54d0-488c-8925-008ffc11550a",
   "metadata": {},
   "outputs": [],
   "source": [
    "resultados = entrenar_y_evaluar_modelos_topicos(true_labels, modelos=[\"kmeans_Tfidf\"],documentos=documents)"
   ]
  },
  {
   "cell_type": "code",
   "execution_count": 10,
   "id": "a145311b-9014-4c8b-a713-c011537af2ed",
   "metadata": {},
   "outputs": [],
   "source": [
    "modelos_a_mostrar = ['kmeans_Tfidf', 'kmeans'] # Solo muestra estos modelos.\n",
    "\n",
    "tabla_html = generar_tabla_metricas_fijas2(resultados, metricas_deseadas, modelos_a_mostrar)"
   ]
  },
  {
   "cell_type": "code",
   "execution_count": 11,
   "id": "c64cb692-1466-452e-8da1-5ad382d31495",
   "metadata": {},
   "outputs": [
    {
     "data": {
      "text/html": [
       "<table>\n",
       "  <tr>\n",
       "    <th>Métrica</th>\n",
       "    <th>KMEANS_TFIDF</th>\n",
       "    <th>KMEANS</th>\n",
       "  </tr>\n",
       "  <tr>\n",
       "    <td>Adjusted Rand Score</td>\n",
       "    <td>0.1029 ± 0.0078</td>\n",
       "    <td>0.1011 ± 0.0093</td>\n",
       "  </tr>\n",
       "  <tr>\n",
       "    <td>Normalized Mutual Info Score</td>\n",
       "    <td>0.3945 ± 0.0027</td>\n",
       "    <td>0.3996 ± 0.0043</td>\n",
       "  </tr>\n",
       "  <tr>\n",
       "    <td>Fowlkes Mallows Score</td>\n",
       "    <td>0.1669 ± 0.0081</td>\n",
       "    <td>0.1652 ± 0.0091</td>\n",
       "  </tr>\n",
       "  <tr>\n",
       "    <td>Bcubed Precision</td>\n",
       "    <td>0.4466 ± 0.0027</td>\n",
       "    <td>0.4518 ± 0.0040</td>\n",
       "  </tr>\n",
       "  <tr>\n",
       "    <td>Bcubed Recall</td>\n",
       "    <td>0.1722 ± 0.0073</td>\n",
       "    <td>0.1780 ± 0.0060</td>\n",
       "  </tr>\n",
       "  <tr>\n",
       "    <td>Bcubed F1</td>\n",
       "    <td>0.1775 ± 0.0059</td>\n",
       "    <td>0.1780 ± 0.0049</td>\n",
       "  </tr>\n",
       "  <tr>\n",
       "    <td>Tiempo Entrenamiento</td>\n",
       "    <td>4.3946 ± 0.5563</td>\n",
       "    <td>18.9642 ± 2.1508</td>\n",
       "  </tr>\n",
       "</table>"
      ],
      "text/plain": [
       "<IPython.core.display.HTML object>"
      ]
     },
     "metadata": {},
     "output_type": "display_data"
    }
   ],
   "source": [
    "from IPython.display import display, HTML\n",
    "display(HTML(tabla_html))"
   ]
  },
  {
   "cell_type": "markdown",
   "id": "9f31516b",
   "metadata": {},
   "source": [
    "## Resultados "
   ]
  },
  {
   "cell_type": "code",
   "execution_count": 47,
   "id": "1d5c638b-6ee3-4aa4-8a54-0c5f57452eb5",
   "metadata": {},
   "outputs": [],
   "source": [
    "modelos_a_mostrar = ['lda', 'gsdmm_100', 'bertopic', 'kmeans_word2vec_250','kmeans_Tfidf','agglomerative_word2vec','agglomerative_Tfidf'] # Solo muestra estos modelos.\n",
    "\n",
    "tabla_html = generar_tabla_metricas_fijas2(resultados, metricas_deseadas, modelos_a_mostrar)"
   ]
  },
  {
   "cell_type": "code",
   "execution_count": 48,
   "id": "39dcfd7c",
   "metadata": {},
   "outputs": [
    {
     "data": {
      "text/html": [
       "<table>\n",
       "  <tr>\n",
       "    <th>Métrica</th>\n",
       "    <th>LDA</th>\n",
       "    <th>GSDMM_100</th>\n",
       "    <th>BERTOPIC</th>\n",
       "    <th>KMEANS_WORD2VEC_250</th>\n",
       "    <th>KMEANS_TFIDF</th>\n",
       "    <th>AGGLOMERATIVE_WORD2VEC</th>\n",
       "    <th>AGGLOMERATIVE_TFIDF</th>\n",
       "  </tr>\n",
       "  <tr>\n",
       "    <td>Adjusted Rand Score</td>\n",
       "    <td>0.1802 ± 0.0186</td>\n",
       "    <td>0.2075 ± 0.0077</td>\n",
       "    <td>0.0465 ± 0.0114</td>\n",
       "    <td>0.1256 ± 0.0058</td>\n",
       "    <td>0.1029 ± 0.0078</td>\n",
       "    <td>0.1438 ± 0.0000</td>\n",
       "    <td>0.0767 ± 0.0000</td>\n",
       "  </tr>\n",
       "  <tr>\n",
       "    <td>Normalized Mutual Info Score</td>\n",
       "    <td>0.3097 ± 0.0080</td>\n",
       "    <td>0.4474 ± 0.0034</td>\n",
       "    <td>0.2717 ± 0.0108</td>\n",
       "    <td>0.4161 ± 0.0019</td>\n",
       "    <td>0.3945 ± 0.0027</td>\n",
       "    <td>0.4280 ± 0.0000</td>\n",
       "    <td>0.3181 ± 0.0000</td>\n",
       "  </tr>\n",
       "  <tr>\n",
       "    <td>Fowlkes Mallows Score</td>\n",
       "    <td>0.2498 ± 0.0187</td>\n",
       "    <td>0.2803 ± 0.0075</td>\n",
       "    <td>0.1910 ± 0.0085</td>\n",
       "    <td>0.2018 ± 0.0069</td>\n",
       "    <td>0.1669 ± 0.0081</td>\n",
       "    <td>0.2203 ± 0.0000</td>\n",
       "    <td>0.1611 ± 0.0000</td>\n",
       "  </tr>\n",
       "  <tr>\n",
       "    <td>Bcubed Precision</td>\n",
       "    <td>0.3530 ± 0.0086</td>\n",
       "    <td>0.4641 ± 0.0042</td>\n",
       "    <td>0.2483 ± 0.0091</td>\n",
       "    <td>0.4690 ± 0.0022</td>\n",
       "    <td>0.4466 ± 0.0027</td>\n",
       "    <td>0.4712 ± 0.0000</td>\n",
       "    <td>0.3397 ± 0.0000</td>\n",
       "  </tr>\n",
       "  <tr>\n",
       "    <td>Bcubed Recall</td>\n",
       "    <td>0.1802 ± 0.0101</td>\n",
       "    <td>0.2304 ± 0.0120</td>\n",
       "    <td>0.3225 ± 0.0109</td>\n",
       "    <td>0.1392 ± 0.0048</td>\n",
       "    <td>0.1722 ± 0.0073</td>\n",
       "    <td>0.1583 ± 0.0000</td>\n",
       "    <td>0.1961 ± 0.0000</td>\n",
       "  </tr>\n",
       "  <tr>\n",
       "    <td>Bcubed F1</td>\n",
       "    <td>0.1991 ± 0.0117</td>\n",
       "    <td>0.2448 ± 0.0081</td>\n",
       "    <td>0.1780 ± 0.0125</td>\n",
       "    <td>0.1703 ± 0.0063</td>\n",
       "    <td>0.1775 ± 0.0059</td>\n",
       "    <td>0.1858 ± 0.0000</td>\n",
       "    <td>0.1639 ± 0.0000</td>\n",
       "  </tr>\n",
       "  <tr>\n",
       "    <td>Tiempo Entrenamiento</td>\n",
       "    <td>31.9839 ± 0.4869</td>\n",
       "    <td>14594.9583 ± 221.8821</td>\n",
       "    <td>0.0000 ± 0.0000</td>\n",
       "    <td>1.1351 ± 0.0245</td>\n",
       "    <td>4.3946 ± 0.5563</td>\n",
       "    <td>11360.0097 ± 0.0000</td>\n",
       "    <td>3193.6339 ± 7141.1825</td>\n",
       "  </tr>\n",
       "</table>"
      ],
      "text/plain": [
       "<IPython.core.display.HTML object>"
      ]
     },
     "metadata": {},
     "output_type": "display_data"
    }
   ],
   "source": [
    "from IPython.display import display, HTML\n",
    "display(HTML(tabla_html))"
   ]
  },
  {
   "cell_type": "markdown",
   "id": "c93d212d",
   "metadata": {},
   "source": [
    "### Cálculo de promedios y visualización de resultados "
   ]
  },
  {
   "cell_type": "code",
   "execution_count": 23,
   "id": "275c3078",
   "metadata": {},
   "outputs": [
    {
     "name": "stdout",
     "output_type": "stream",
     "text": [
      "Modelos ordenados por promedio (utilizando todas las metricas):\n",
      "\n",
      "                        Promedio\n",
      "GSDMM                   0.312417\n",
      "AGGLOMERATIVE_WORD2VEC  0.267900\n",
      "KMEANS_WORD2VEC_250     0.253667\n",
      "LDA                     0.245333\n",
      "KMEANS_TFIDF            0.243433\n",
      "BERTopic                0.209667\n",
      "AGGLOMERATIVE_TFIDF     0.209267\n",
      "\n",
      "Modelos ordenados por promedio (ARI, NMI y Bcubed F1):\n",
      "\n",
      "                        Promedio\n",
      "GSDMM                   0.299900\n",
      "AGGLOMERATIVE_WORD2VEC  0.252533\n",
      "KMEANS_WORD2VEC_250     0.237333\n",
      "LDA                     0.229667\n",
      "KMEANS_TFIDF            0.224967\n",
      "AGGLOMERATIVE_TFIDF     0.186233\n",
      "BERTopic                0.165400\n",
      "\n",
      "Modelos ordenados por Bcubed F1):\n",
      "\n",
      "GSDMM                     0.2448\n",
      "LDA                       0.1991\n",
      "AGGLOMERATIVE_WORD2VEC    0.1858\n",
      "BERTopic                  0.1780\n",
      "KMEANS_TFIDF              0.1775\n",
      "KMEANS_WORD2VEC_250       0.1703\n",
      "AGGLOMERATIVE_TFIDF       0.1639\n",
      "Name: Bcubed F1 Score, dtype: float64\n"
     ]
    }
   ],
   "source": [
    "import numpy as np\n",
    "import matplotlib.pyplot as plt\n",
    "import pandas as pd\n",
    "\n",
    "# Datos de evaluación\n",
    "models = [\n",
    "    \"LDA\", \"GSDMM\", \"BERTopic\", \"KMEANS_WORD2VEC_250\", \n",
    "    \"KMEANS_TFIDF\", \"AGGLOMERATIVE_WORD2VEC\", \"AGGLOMERATIVE_TFIDF\"\n",
    "]\n",
    "\n",
    "metrics = [\n",
    "    \"Adjusted Rand Score\", \"Normalized Mutual Info Score\", \n",
    "    \"Fowlkes Mallows Score\", \"Bcubed Precision\", \n",
    "    \"Bcubed Recall\", \"Bcubed F1 Score\"\n",
    "]\n",
    "\n",
    "scores = np.array([\n",
    "   [0.1802, 0.3097, 0.2498, 0.3530, 0.1802, 0.1991],\n",
    "    [0.2075, 0.4474, 0.2803, 0.4641, 0.2304, 0.2448],\n",
    "    [0.0465, 0.2717, 0.1910, 0.2483, 0.3225, 0.1780],\n",
    "    [0.1256, 0.4161, 0.2018, 0.4690, 0.1392, 0.1703],\n",
    "    [0.1029, 0.3945, 0.1669, 0.4466, 0.1722, 0.1775],\n",
    "    [0.1438, 0.4280, 0.2203, 0.4712, 0.1583, 0.1858],\n",
    "    [0.0767, 0.3181, 0.1611, 0.3397, 0.1961, 0.1639]\n",
    "])\n",
    "\n",
    "# Crear un DataFrame para los datos\n",
    "\n",
    "df = pd.DataFrame(scores, index=models, columns=metrics)\n",
    "\n",
    "# Calcular promedio por modelo y ordenarlos\n",
    "average_scores = df.mean(axis=1).sort_values(ascending=False)\n",
    "df['Promedio'] = average_scores\n",
    "\n",
    "# Mostrar promedio ordenados\n",
    "print(\"Modelos ordenados por promedio (utilizando todas las metricas):\\n\")\n",
    "print(df[['Promedio']].sort_values(by='Promedio', ascending=False))\n",
    "\n",
    "interpretability_metrics = [\"Adjusted Rand Score\", \"Normalized Mutual Info Score\", \"Bcubed F1 Score\"]\n",
    "df_interpretability = df[interpretability_metrics]\n",
    "\n",
    "df_interpretability['Promedio'] = df_interpretability.mean(axis=1)\n",
    "df_interpretability = df_interpretability.sort_values(by='Promedio', ascending=False)\n",
    "\n",
    "# Mostrar puntajes promedio ordenados según interpretabilidad\n",
    "print(\"\\nModelos ordenados por promedio (ARI, NMI y Bcubed F1):\\n\")\n",
    "print(df_interpretability[['Promedio']])\n",
    "df_f1= df[\"Bcubed F1 Score\"]\n",
    "print(\"\\nModelos ordenados por Bcubed F1):\\n\")\n",
    "print(df_f1.sort_values(ascending=False))\n"
   ]
  },
  {
   "cell_type": "code",
   "execution_count": 2,
   "id": "bab3d2c1",
   "metadata": {},
   "outputs": [
    {
     "name": "stdout",
     "output_type": "stream",
     "text": [
      "Promedio por modelo (ordenados de mayor a menor):\n",
      "\n",
      "                        Average Score\n",
      "GSDMM                        0.312417\n",
      "AGGLOMERATIVE_WORD2VEC       0.267900\n",
      "KMEANS_WORD2VEC_250          0.253667\n",
      "LDA                          0.245333\n",
      "KMEANS_TFIDF                 0.243433\n",
      "BERTopic                     0.209667\n",
      "AGGLOMERATIVE_TFIDF          0.209267\n"
     ]
    },
    {
     "data": {
      "text/plain": [
       "<Figure size 1500x600 with 0 Axes>"
      ]
     },
     "metadata": {},
     "output_type": "display_data"
    },
    {
     "data": {
      "image/png": "[encoded data removed]",
      "text/plain": [
       "<Figure size 1500x600 with 1 Axes>"
      ]
     },
     "metadata": {},
     "output_type": "display_data"
    },
    {
     "data": {
      "image/png": "[encoded data removed]",
      "text/plain": [
       "<Figure size 800x800 with 1 Axes>"
      ]
     },
     "metadata": {},
     "output_type": "display_data"
    }
   ],
   "source": [
    "import numpy as np\n",
    "import matplotlib.pyplot as plt\n",
    "import pandas as pd\n",
    "\n",
    "# Datos de evaluación\n",
    "models = [\n",
    "    \"LDA\", \"GSDMM\", \"BERTopic\", \"KMEANS_WORD2VEC_250\", \n",
    "    \"KMEANS_TFIDF\", \"AGGLOMERATIVE_WORD2VEC\", \"AGGLOMERATIVE_TFIDF\"\n",
    "]\n",
    "\n",
    "metrics = [\n",
    "    \"Adjusted Rand Score\", \"Normalized Mutual Info Score\", \n",
    "    \"Fowlkes Mallows Score\", \"Bcubed Precision\", \n",
    "    \"Bcubed Recall\", \"Bcubed F1 Score\"\n",
    "]\n",
    "\n",
    "scores = np.array([\n",
    "    [0.1802, 0.3097, 0.2498, 0.3530, 0.1802, 0.1991],\n",
    "    [0.2075, 0.4474, 0.2803, 0.4641, 0.2304, 0.2448],\n",
    "    [0.0465, 0.2717, 0.1910, 0.2483, 0.3225, 0.1780],\n",
    "    [0.1256, 0.4161, 0.2018, 0.4690, 0.1392, 0.1703],\n",
    "    [0.1029, 0.3945, 0.1669, 0.4466, 0.1722, 0.1775],\n",
    "    [0.1438, 0.4280, 0.2203, 0.4712, 0.1583, 0.1858],\n",
    "    [0.0767, 0.3181, 0.1611, 0.3397, 0.1961, 0.1639]\n",
    "])\n",
    "\n",
    "# Crear un DataFrame para los datos\n",
    "\n",
    "df = pd.DataFrame(scores, index=models, columns=metrics)\n",
    "\n",
    "# Calcular promedio por modelo y ordenarlos\n",
    "average_scores = df.mean(axis=1).sort_values(ascending=False)\n",
    "df['Average Score'] = average_scores\n",
    "\n",
    "#Mostrar promedio ordenados\n",
    "print(\"Promedio por modelo (ordenados de mayor a menor):\\n\")\n",
    "print(df[['Average Score']].sort_values(by='Average Score', ascending=False))\n",
    "\n",
    "# Plot de Barras Agrupadas\n",
    "plt.figure(figsize=(15, 6))\n",
    "df.iloc[:, :-1].plot(kind='bar', width=0.8, figsize=(15, 6))\n",
    "plt.title(\"Comparación de Modelos - Todas las Métricas\")\n",
    "plt.ylabel(\"Puntaje\")\n",
    "plt.xticks(rotation=45)\n",
    "plt.legend(bbox_to_anchor=(1.05, 1), loc='upper left')\n",
    "plt.tight_layout()\n",
    "plt.show()\n",
    "\n",
    "# Plot de Radar para cada modelo\n",
    "num_vars = len(metrics)\n",
    "angles = np.linspace(0, 2 * np.pi, num_vars, endpoint=False).tolist()\n",
    "\n",
    "fig, ax = plt.subplots(figsize=(8, 8), subplot_kw=dict(polar=True))\n",
    "for i, (model, row) in enumerate(df.iloc[:, :-1].iterrows()):\n",
    "    values = row.tolist()\n",
    "    values += values[:1]  # Cerrar el gráfico circular\n",
    "    angles_with_closure = angles + [angles[0]]  # Asegurar que coincidan los ángulos\n",
    "    ax.plot(angles_with_closure, values, label=model, linewidth=2)\n",
    "    ax.fill(angles_with_closure, values, alpha=0.1)\n",
    "\n",
    "ax.set_yticks([0.1, 0.2, 0.3, 0.4, 0.5])\n",
    "ax.set_yticklabels(['0.1', '0.2', '0.3', '0.4', '0.5'])\n",
    "ax.set_xticks(angles)\n",
    "ax.set_xticklabels(metrics)\n",
    "ax.set_title(\"Comparación de Modelos - Gráfico Radar\", size=15)\n",
    "ax.legend(bbox_to_anchor=(1.1, 0.1))\n",
    "plt.show()\n"
   ]
  },
  {
   "cell_type": "code",
   "execution_count": 13,
   "id": "d3a3f803",
   "metadata": {},
   "outputs": [
    {
     "data": {
      "text/plain": [
       "LDA                       0.1991\n",
       "GSDMM                     0.2448\n",
       "BERTopic                  0.1780\n",
       "KMEANS_WORD2VEC_250       0.1703\n",
       "KMEANS_TFIDF              0.1775\n",
       "AGGLOMERATIVE_WORD2VEC    0.1858\n",
       "AGGLOMERATIVE_TFIDF       0.1639\n",
       "Name: Bcubed F1 Score, dtype: float64"
      ]
     },
     "execution_count": 13,
     "metadata": {},
     "output_type": "execute_result"
    }
   ],
   "source": [
    "df_f1"
   ]
  }
 ],
 "metadata": {
  "kernelspec": {
   "display_name": "Python 3 (ipykernel)",
   "language": "python",
   "name": "python3"
  },
  "language_info": {
   "codemirror_mode": {
    "name": "ipython",
    "version": 3
   },
   "file_extension": ".py",
   "mimetype": "text/x-python",
   "name": "python",
   "nbconvert_exporter": "python",
   "pygments_lexer": "ipython3",
   "version": "3.11.5"
  }
 },
 "nbformat": 4,
 "nbformat_minor": 5
}
