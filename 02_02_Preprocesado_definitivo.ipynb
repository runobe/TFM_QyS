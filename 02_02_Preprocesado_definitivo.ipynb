{
 "cells": [
  {
   "cell_type": "markdown",
   "id": "bc7d86f4",
   "metadata": {},
   "source": [
    "Eliminamos los documentos con menos de dos palabras\n",
    "<h3>Preprocesado</h3\n",
    "<ol>\n",
    "    <li>Tokenización y lematización</li>\n",
    "    <li>Eliminar signos de puntuación, tokens numéricos y stopwords</li>\n",
    "    <li>Eliminar acentos</li>\n",
    "    <li>Eliminar tokens de 1 carácter</li>\n",
    "    <li>Aplicar filter_extremes no_below=7 (Al menos aparezca en 7 documentos), no_above=0.7 (no aparezca en más del 70% de los documentos)</li>\n",
    "</ol>\n",
    "<h3>Análisis y Unificación de servicios: </h3>\n",
    "<ol>\n",
    "    <li>Análisis de servicios existentes con códigos diferentes</li>\n",
    "    <li>Unificación de servicios para reducir su número</li>\n",
    "</ol>    "
   ]
  },
  {
   "cell_type": "code",
   "execution_count": 1,
   "id": "c049720c",
   "metadata": {},
   "outputs": [],
   "source": [
    "import pandas as pd\n",
    "import requests\n",
    "import datetime\n",
    "import re\n",
    "import string\n",
    "import collections\n",
    "import spacy\n",
    "import ast\n",
    "import unicodedata\n",
    "from gensim import corpora\n",
    "from gensim.corpora import MmCorpus\n",
    "from gensim.models import LdaModel\n",
    "from collections import Counter\n",
    "import copy\n",
    "from sklearn.metrics import silhouette_score, adjusted_rand_score, normalized_mutual_info_score, davies_bouldin_score, calinski_harabasz_score\n",
    "import bcubed\n",
    "from sklearn.preprocessing import LabelEncoder\n",
    "from sklearn.metrics.pairwise import cosine_similarity\n"
   ]
  },
  {
   "cell_type": "code",
   "execution_count": 2,
   "id": "b26b53ff",
   "metadata": {},
   "outputs": [],
   "source": [
    "df_original = pd.read_csv('qys_original.csv', sep=\";\")"
   ]
  },
  {
   "cell_type": "code",
   "execution_count": 4,
   "id": "f69fb9d0",
   "metadata": {},
   "outputs": [],
   "source": [
    "def count_words(text):\n",
    "    words = re.findall(r'\\b\\w+\\b',text)\n",
    "    return len(words)\n",
    "\n",
    "df_word = df_original.copy()\n",
    "df_word['texto'] = df_word['title'].astype(str) + ' ' + df_word['description'].astype(str)\n",
    "df_word['count_word'] = df_word['texto'].apply(count_words)"
   ]
  },
  {
   "cell_type": "code",
   "execution_count": 9,
   "id": "2b0d9c0e",
   "metadata": {},
   "outputs": [
    {
     "data": {
      "text/html": [
       "<div>\n",
       "<style scoped>\n",
       "    .dataframe tbody tr th:only-of-type {\n",
       "        vertical-align: middle;\n",
       "    }\n",
       "\n",
       "    .dataframe tbody tr th {\n",
       "        vertical-align: top;\n",
       "    }\n",
       "\n",
       "    .dataframe thead th {\n",
       "        text-align: right;\n",
       "    }\n",
       "</style>\n",
       "<table border=\"1\" class=\"dataframe\">\n",
       "  <thead>\n",
       "    <tr style=\"text-align: right;\">\n",
       "      <th></th>\n",
       "      <th>count_word</th>\n",
       "      <th>texto</th>\n",
       "    </tr>\n",
       "  </thead>\n",
       "  <tbody>\n",
       "    <tr>\n",
       "      <th>0</th>\n",
       "      <td>271</td>\n",
       "      <td>Equipo Flip-Flap Me dirijo a ustedes aprovecha...</td>\n",
       "    </tr>\n",
       "    <tr>\n",
       "      <th>1</th>\n",
       "      <td>239</td>\n",
       "      <td>Instalación deportiva para gimnasia deportiva ...</td>\n",
       "    </tr>\n",
       "    <tr>\n",
       "      <th>2</th>\n",
       "      <td>86</td>\n",
       "      <td>Duda Permisos Hola, escribo en nombre de un gr...</td>\n",
       "    </tr>\n",
       "    <tr>\n",
       "      <th>3</th>\n",
       "      <td>75</td>\n",
       "      <td>Noches Jueves viernes y sábado Cada vez es más...</td>\n",
       "    </tr>\n",
       "    <tr>\n",
       "      <th>4</th>\n",
       "      <td>120</td>\n",
       "      <td>Falta de instalaciones deportivas Somos una fa...</td>\n",
       "    </tr>\n",
       "    <tr>\n",
       "      <th>...</th>\n",
       "      <td>...</td>\n",
       "      <td>...</td>\n",
       "    </tr>\n",
       "    <tr>\n",
       "      <th>66452</th>\n",
       "      <td>42</td>\n",
       "      <td>Reposición o reparación de cubo de basura Buen...</td>\n",
       "    </tr>\n",
       "    <tr>\n",
       "      <th>66453</th>\n",
       "      <td>36</td>\n",
       "      <td>Baldosas defectuosas Justo en la puerta de la ...</td>\n",
       "    </tr>\n",
       "    <tr>\n",
       "      <th>66454</th>\n",
       "      <td>202</td>\n",
       "      <td>Aviso de que reclamación sigue sin respuesta  ...</td>\n",
       "    </tr>\n",
       "    <tr>\n",
       "      <th>66455</th>\n",
       "      <td>40</td>\n",
       "      <td>Recogida de basura  Buenos dias, muestro mi ma...</td>\n",
       "    </tr>\n",
       "    <tr>\n",
       "      <th>66456</th>\n",
       "      <td>153</td>\n",
       "      <td>Residencia xiort pontoneros- madre Rafols Buen...</td>\n",
       "    </tr>\n",
       "  </tbody>\n",
       "</table>\n",
       "<p>66457 rows × 2 columns</p>\n",
       "</div>"
      ],
      "text/plain": [
       "       count_word                                              texto\n",
       "0             271  Equipo Flip-Flap Me dirijo a ustedes aprovecha...\n",
       "1             239  Instalación deportiva para gimnasia deportiva ...\n",
       "2              86  Duda Permisos Hola, escribo en nombre de un gr...\n",
       "3              75  Noches Jueves viernes y sábado Cada vez es más...\n",
       "4             120  Falta de instalaciones deportivas Somos una fa...\n",
       "...           ...                                                ...\n",
       "66452          42  Reposición o reparación de cubo de basura Buen...\n",
       "66453          36  Baldosas defectuosas Justo en la puerta de la ...\n",
       "66454         202  Aviso de que reclamación sigue sin respuesta  ...\n",
       "66455          40  Recogida de basura  Buenos dias, muestro mi ma...\n",
       "66456         153  Residencia xiort pontoneros- madre Rafols Buen...\n",
       "\n",
       "[66457 rows x 2 columns]"
      ]
     },
     "execution_count": 9,
     "metadata": {},
     "output_type": "execute_result"
    }
   ],
   "source": [
    "df_word[['count_word','texto']]"
   ]
  },
  {
   "cell_type": "code",
   "execution_count": 10,
   "id": "0034c203",
   "metadata": {},
   "outputs": [],
   "source": [
    "#eliminamos los documentos con menos de dos palabras\n",
    "df_word=df_word[df_word['count_word'] >= 3]"
   ]
  },
  {
   "cell_type": "code",
   "execution_count": 13,
   "id": "6888714d",
   "metadata": {},
   "outputs": [],
   "source": [
    "df_preprocesado = df_word.copy()"
   ]
  },
  {
   "cell_type": "code",
   "execution_count": 3,
   "id": "3e7769ec",
   "metadata": {},
   "outputs": [],
   "source": [
    "import spacy\n",
    "import unicodedata\n",
    "\n",
    "nlp = spacy.load(\"es_core_news_sm\")\n",
    "\n",
    "def preprocesar_textos(texto, generar_bigramas=False):\n",
    "    # 1. Tokenización y lematización\n",
    "    doc = nlp(texto.lower())  # Procesa el texto en minúsculas\n",
    "    # 2. Eliminar signos de puntuación, tokens numéricos y stopwords\n",
    "    tokens_sin_stopwords = [token.lemma_ for token in doc if not token.is_punct and token.is_alpha and not token.is_stop]\n",
    "\n",
    "    # 3. Eliminar acentos\n",
    "    tokens_sin_acentos = []\n",
    "    for token in tokens_sin_stopwords:\n",
    "        if 'ñ' in token or 'Ñ' in token:\n",
    "            tokens_sin_acentos.append(token)\n",
    "        else:\n",
    "            normalized_token = unicodedata.normalize('NFKD', token)\n",
    "            token_sin_acento = ''.join([c for c in normalized_token if unicodedata.category(c) != 'Mn'])\n",
    "            tokens_sin_acentos.append(token_sin_acento)\n",
    "\n",
    "    # 4. Eliminar tokens de 1 carácter\n",
    "    tokens_filtrados = [token for token in tokens_sin_acentos if len(token) > 1]\n",
    "\n",
    "    if generar_bigramas:\n",
    "        # 5. Generar bigramas\n",
    "        bigramas = [\" \".join(bigrama) for bigrama in zip(tokens_filtrados, tokens_filtrados[1:])]\n",
    "        return bigramas\n",
    "    else:\n",
    "        # 6. Devolver solo unigramas\n",
    "        return tokens_filtrados\n"
   ]
  },
  {
   "cell_type": "code",
   "execution_count": 14,
   "id": "4abc755d",
   "metadata": {},
   "outputs": [],
   "source": [
    "import nltk\n",
    "from nltk.corpus import stopwords\n",
    "from nltk.tokenize import word_tokenize\n",
    "def generar_bigramas(texto):\n",
    "    \"\"\"Genera bigramas a partir de un texto.\"\"\"\n",
    "\n",
    "    # Generación de bigramas\n",
    "    bigramas = list(nltk.bigrams(texto))\n",
    "    return bigramas\n"
   ]
  },
  {
   "cell_type": "code",
   "execution_count": 4,
   "id": "160ef4bb",
   "metadata": {},
   "outputs": [],
   "source": [
    "df_preprocesado = pd.read_csv('df_preprocesado.csv', sep=';')"
   ]
  },
  {
   "cell_type": "code",
   "execution_count": 30,
   "id": "2b45d195",
   "metadata": {},
   "outputs": [],
   "source": [
    "df_preprocesado['texto_preprocesado'] = df_preprocesado['texto'].apply(preprocesar_texto)"
   ]
  },
  {
   "cell_type": "code",
   "execution_count": 8,
   "id": "786ac3ed",
   "metadata": {},
   "outputs": [],
   "source": [
    "df_preprocesado['bigramas_preprocesado'] = df_preprocesado['texto'].apply(lambda x: preprocesar_textos(x, generar_bigramas=True))"
   ]
  },
  {
   "cell_type": "code",
   "execution_count": 18,
   "id": "fd0620a8",
   "metadata": {},
   "outputs": [],
   "source": [
    "df_preprocesado['bi_nltk_preprocesado'] = df_preprocesado['texto_preprocesado'].apply(ast.literal_eval).apply(generar_bigramas)"
   ]
  },
  {
   "cell_type": "code",
   "execution_count": 31,
   "id": "f821a99e",
   "metadata": {},
   "outputs": [
    {
     "data": {
      "text/plain": [
       "0        [equipo, dirigir, aprovechar, servicio, dejar,...\n",
       "1        [instalacion, deportivo, gimnasia, deportivo, ...\n",
       "2        [dudar, permiso, hola, escribir, nombre, grupo...\n",
       "3        [noche, jueves, viernes, sabado, imposible, do...\n",
       "4        [falta, instalacion, deportivo, familia, amant...\n",
       "                               ...                        \n",
       "66452    [reposicion, reparacion, cubo, basura, agradec...\n",
       "66453    [baldosa, defectuoso, justo, puerta, vivienda,...\n",
       "66454    [aviso, reclamacion, respuesta, poner, queja, ...\n",
       "66455    [recogida, basura, mostrar, malestar, contened...\n",
       "66456    [residencia, xiort, madre, rafols, dirigir, de...\n",
       "Name: texto_preprocesado, Length: 66455, dtype: object"
      ]
     },
     "execution_count": 31,
     "metadata": {},
     "output_type": "execute_result"
    }
   ],
   "source": [
    "df_preprocesado['texto_preprocesado']"
   ]
  },
  {
   "cell_type": "code",
   "execution_count": 9,
   "id": "bffc53fc",
   "metadata": {},
   "outputs": [
    {
     "data": {
      "text/plain": [
       "0        [equipo dirijo, dirijo aprovechar, aprovechar ...\n",
       "1        [instalacion deportivo, deportivo gimnasia, gi...\n",
       "2        [dudar permiso, permiso hola, hola escribir, e...\n",
       "3        [noche jueves, jueves viernes, viernes sabado,...\n",
       "4        [falta instalacion, instalacion deportivo, dep...\n",
       "                               ...                        \n",
       "66450    [reposicion reparacion, reparacion cubo, cubo ...\n",
       "66451    [baldosa defectuoso, defectuoso justo, justo p...\n",
       "66452    [aviso reclamacion, reclamacion respuesta, res...\n",
       "66453    [recogida basura, basura muestro, muestro male...\n",
       "66454    [residencia xiort, xiort madre, madre rafols, ...\n",
       "Name: bigramas_preprocesado, Length: 66455, dtype: object"
      ]
     },
     "execution_count": 9,
     "metadata": {},
     "output_type": "execute_result"
    }
   ],
   "source": [
    "df_preprocesado['bigramas_preprocesado']"
   ]
  },
  {
   "cell_type": "code",
   "execution_count": 19,
   "id": "0835dd69",
   "metadata": {},
   "outputs": [
    {
     "data": {
      "text/plain": [
       "0        [(equipo, dirigir), (dirigir, aprovechar), (ap...\n",
       "1        [(instalacion, deportivo), (deportivo, gimnasi...\n",
       "2        [(dudar, permiso), (permiso, hola), (hola, esc...\n",
       "3        [(noche, jueves), (jueves, viernes), (viernes,...\n",
       "4        [(falta, instalacion), (instalacion, deportivo...\n",
       "                               ...                        \n",
       "66450    [(reposicion, reparacion), (reparacion, cubo),...\n",
       "66451    [(baldosa, defectuoso), (defectuoso, justo), (...\n",
       "66452    [(aviso, reclamacion), (reclamacion, respuesta...\n",
       "66453    [(recogida, basura), (basura, mostrar), (mostr...\n",
       "66454    [(residencia, xiort), (xiort, madre), (madre, ...\n",
       "Name: bi_nltk_preprocesado, Length: 66455, dtype: object"
      ]
     },
     "execution_count": 19,
     "metadata": {},
     "output_type": "execute_result"
    }
   ],
   "source": [
    "df_preprocesado['bi_nltk_preprocesado']"
   ]
  },
  {
   "cell_type": "code",
   "execution_count": 10,
   "id": "4a31b4ce",
   "metadata": {},
   "outputs": [],
   "source": [
    " df_preprocesado.to_csv('df_preprocesado.csv', sep=';', index=False)"
   ]
  },
  {
   "cell_type": "code",
   "execution_count": 32,
   "id": "7eb6cdd9",
   "metadata": {},
   "outputs": [],
   "source": [
    "dictionary_spacy = corpora.Dictionary(df_preprocesado['texto_preprocesado'])\n",
    "dictionary_spacy.save('dictionary_spacy.gensim')"
   ]
  },
  {
   "cell_type": "code",
   "execution_count": 11,
   "id": "cadb3584",
   "metadata": {},
   "outputs": [],
   "source": [
    "dictionary_bi_spacy = corpora.Dictionary(df_preprocesado['bigramas_preprocesado'])\n",
    "dictionary_bi_spacy.save('dictionary_bi_spacy.gensim')"
   ]
  },
  {
   "cell_type": "code",
   "execution_count": 33,
   "id": "1e575487",
   "metadata": {},
   "outputs": [
    {
     "data": {
      "text/plain": [
       "50127"
      ]
     },
     "execution_count": 33,
     "metadata": {},
     "output_type": "execute_result"
    }
   ],
   "source": [
    "len(dictionary_spacy)"
   ]
  },
  {
   "cell_type": "code",
   "execution_count": 12,
   "id": "5f27cf0c",
   "metadata": {},
   "outputs": [
    {
     "data": {
      "text/plain": [
       "990569"
      ]
     },
     "execution_count": 12,
     "metadata": {},
     "output_type": "execute_result"
    }
   ],
   "source": [
    "len(dictionary_bi_spacy)"
   ]
  },
  {
   "cell_type": "code",
   "execution_count": 21,
   "id": "e8e07323",
   "metadata": {},
   "outputs": [],
   "source": [
    "dictionary_bi_nltk = corpora.Dictionary(df_preprocesado['bi_nltk_preprocesado'].apply(lambda lista_tuplas: [\" \".join(tupla) for tupla in lista_tuplas]))"
   ]
  },
  {
   "cell_type": "code",
   "execution_count": 22,
   "id": "865bf35a",
   "metadata": {},
   "outputs": [
    {
     "data": {
      "text/plain": [
       "962884"
      ]
     },
     "execution_count": 22,
     "metadata": {},
     "output_type": "execute_result"
    }
   ],
   "source": [
    "len(dictionary_bi_nltk)"
   ]
  },
  {
   "cell_type": "code",
   "execution_count": 23,
   "id": "b4200afb",
   "metadata": {},
   "outputs": [],
   "source": [
    "dictionary_bi_nltk.save('dictionary_bi_nltk.gensim')"
   ]
  },
  {
   "cell_type": "code",
   "execution_count": 34,
   "id": "cdb62c0b",
   "metadata": {},
   "outputs": [],
   "source": [
    "# Crear una copia del diccionario para no modificar el original.\n",
    "dictionary_filtrado = copy.deepcopy(dictionary_spacy)\n",
    "\n",
    "# Aplicar filter_extremes\n",
    "dictionary_filtrado.filter_extremes(no_below=7, no_above=0.7)"
   ]
  },
  {
   "cell_type": "code",
   "execution_count": 35,
   "id": "ea3ad80c",
   "metadata": {},
   "outputs": [],
   "source": [
    "dictionary_filtrado.save('dictionary_filtrado_spacy.gensim')"
   ]
  },
  {
   "cell_type": "code",
   "execution_count": 3,
   "id": "d8927d0d",
   "metadata": {},
   "outputs": [],
   "source": [
    "from gensim.corpora import Dictionary, MmCorpus\n",
    "dictionary = Dictionary.load('dictionary_filtrado_spacy.gensim')"
   ]
  },
  {
   "cell_type": "code",
   "execution_count": 4,
   "id": "74dd3172",
   "metadata": {},
   "outputs": [
    {
     "data": {
      "text/plain": [
       "11743"
      ]
     },
     "execution_count": 4,
     "metadata": {},
     "output_type": "execute_result"
    }
   ],
   "source": [
    "len(dictionary)"
   ]
  },
  {
   "cell_type": "code",
   "execution_count": 24,
   "id": "3c4a65f9",
   "metadata": {},
   "outputs": [],
   "source": [
    "# Crear una copia del diccionario para no modificar el original.\n",
    "dictionary_filtrado_bi = copy.deepcopy(dictionary_bi_spacy)\n",
    "\n",
    "# Aplicar filter_extremes\n",
    "dictionary_filtrado_bi.filter_extremes(no_below=7, no_above=0.7)"
   ]
  },
  {
   "cell_type": "code",
   "execution_count": 25,
   "id": "974bcd93",
   "metadata": {},
   "outputs": [
    {
     "data": {
      "text/plain": [
       "39693"
      ]
     },
     "execution_count": 25,
     "metadata": {},
     "output_type": "execute_result"
    }
   ],
   "source": [
    "len(dictionary_filtrado_bi)"
   ]
  },
  {
   "cell_type": "code",
   "execution_count": 32,
   "id": "57d13e90",
   "metadata": {},
   "outputs": [],
   "source": [
    "dictionary_filtrado_bi.save('dictionary_filtrado_bi.gensim')"
   ]
  },
  {
   "cell_type": "code",
   "execution_count": 26,
   "id": "2514d6c8",
   "metadata": {},
   "outputs": [],
   "source": [
    "# Crear una copia del diccionario para no modificar el original.\n",
    "dictionary_filtrado_bi_nltk = copy.deepcopy(dictionary_bi_nltk)\n",
    "\n",
    "# Aplicar filter_extremes\n",
    "dictionary_filtrado_bi_nltk.filter_extremes(no_below=7, no_above=0.7)"
   ]
  },
  {
   "cell_type": "code",
   "execution_count": 27,
   "id": "c3a92720",
   "metadata": {},
   "outputs": [
    {
     "data": {
      "text/plain": [
       "40542"
      ]
     },
     "execution_count": 27,
     "metadata": {},
     "output_type": "execute_result"
    }
   ],
   "source": [
    "len(dictionary_filtrado_bi_nltk)"
   ]
  },
  {
   "cell_type": "markdown",
   "id": "50f044e5",
   "metadata": {},
   "source": [
    "## Tablas de frecuencia de palabras"
   ]
  },
  {
   "cell_type": "code",
   "execution_count": 36,
   "id": "0cfd7dee",
   "metadata": {},
   "outputs": [
    {
     "name": "stdout",
     "output_type": "stream",
     "text": [
      "       token_id  frequency         word\n",
      "0           158      28020        calle\n",
      "1            33      13952       gracia\n",
      "2           391      13121         zona\n",
      "3            63      12784       saludo\n",
      "4           320      11653    solicitar\n",
      "...         ...        ...          ...\n",
      "11738      7912          7     suroeste\n",
      "11739      8602          7      obligen\n",
      "11740      8616          7      clienta\n",
      "11741      4673          7   inhumacion\n",
      "11742      9507          7  escuchar el\n",
      "\n",
      "[11743 rows x 3 columns]\n"
     ]
    }
   ],
   "source": [
    "# Obtener el mapeo id -> palabra\n",
    "token2word = {id_: word for word, id_ in dictionary_filtrado.token2id.items()}\n",
    "\n",
    "# Obtener la frecuencia de cada palabra\n",
    "token_frequencies = dictionary_filtrado.dfs  # cfs (collection frequency statistics)\n",
    "\n",
    "# Convertirlo en un DataFrame ordenado\n",
    "df_documentos = pd.DataFrame(list(token_frequencies.items()), columns=[\"token_id\", \"frequency\"])\n",
    "df_documentos[\"word\"] = df_documentos[\"token_id\"].map(token2word)  # Mapear id a palabra\n",
    "\n",
    "# Ordenar de mayor a menor frecuencia\n",
    "df_documentos = df_documentos.sort_values(by=\"frequency\", ascending=False).reset_index(drop=True)\n",
    "\n",
    "print(df_documentos)"
   ]
  },
  {
   "cell_type": "code",
   "execution_count": 28,
   "id": "4808491f",
   "metadata": {},
   "outputs": [
    {
     "name": "stdout",
     "output_type": "stream",
     "text": [
      "       token_id  frequency                  word\n",
      "0           244       4368   solicito reparacion\n",
      "1           299       3666             punto luz\n",
      "2          6364       3048       matricula punto\n",
      "3           241       1968      reparacion bache\n",
      "4           539       1815   reparacion semaforo\n",
      "...         ...        ...                   ...\n",
      "39688     10861          7         vehiculo foto\n",
      "39689     30652          7  estar funcionamiento\n",
      "39690     30648          7         cosa habitual\n",
      "39691     10847          7            caer plaza\n",
      "39692     19845          7           portal dato\n",
      "\n",
      "[39693 rows x 3 columns]\n"
     ]
    }
   ],
   "source": [
    "# Obtener el mapeo id -> palabra\n",
    "token2word = {id_: word for word, id_ in dictionary_filtrado_bi.token2id.items()}\n",
    "\n",
    "# Obtener la frecuencia de cada palabra\n",
    "token_frequencies = dictionary_filtrado_bi.dfs  # cfs (collection frequency statistics)\n",
    "\n",
    "# Convertirlo en un DataFrame ordenado\n",
    "df_documentos = pd.DataFrame(list(token_frequencies.items()), columns=[\"token_id\", \"frequency\"])\n",
    "df_documentos[\"word\"] = df_documentos[\"token_id\"].map(token2word)  # Mapear id a palabra\n",
    "\n",
    "# Ordenar de mayor a menor frecuencia\n",
    "df_documentos = df_documentos.sort_values(by=\"frequency\", ascending=False).reset_index(drop=True)\n",
    "\n",
    "print(df_documentos)"
   ]
  },
  {
   "cell_type": "code",
   "execution_count": 29,
   "id": "b27ab4d7",
   "metadata": {},
   "outputs": [
    {
     "data": {
      "text/html": [
       "<div>\n",
       "<style scoped>\n",
       "    .dataframe tbody tr th:only-of-type {\n",
       "        vertical-align: middle;\n",
       "    }\n",
       "\n",
       "    .dataframe tbody tr th {\n",
       "        vertical-align: top;\n",
       "    }\n",
       "\n",
       "    .dataframe thead th {\n",
       "        text-align: right;\n",
       "    }\n",
       "</style>\n",
       "<table border=\"1\" class=\"dataframe\">\n",
       "  <thead>\n",
       "    <tr style=\"text-align: right;\">\n",
       "      <th></th>\n",
       "      <th>token_id</th>\n",
       "      <th>frequency</th>\n",
       "      <th>word</th>\n",
       "    </tr>\n",
       "  </thead>\n",
       "  <tbody>\n",
       "    <tr>\n",
       "      <th>0</th>\n",
       "      <td>244</td>\n",
       "      <td>4368</td>\n",
       "      <td>solicito reparacion</td>\n",
       "    </tr>\n",
       "    <tr>\n",
       "      <th>1</th>\n",
       "      <td>299</td>\n",
       "      <td>3666</td>\n",
       "      <td>punto luz</td>\n",
       "    </tr>\n",
       "    <tr>\n",
       "      <th>2</th>\n",
       "      <td>6364</td>\n",
       "      <td>3048</td>\n",
       "      <td>matricula punto</td>\n",
       "    </tr>\n",
       "    <tr>\n",
       "      <th>3</th>\n",
       "      <td>241</td>\n",
       "      <td>1968</td>\n",
       "      <td>reparacion bache</td>\n",
       "    </tr>\n",
       "    <tr>\n",
       "      <th>4</th>\n",
       "      <td>539</td>\n",
       "      <td>1815</td>\n",
       "      <td>reparacion semaforo</td>\n",
       "    </tr>\n",
       "    <tr>\n",
       "      <th>5</th>\n",
       "      <td>535</td>\n",
       "      <td>1789</td>\n",
       "      <td>fundido solicito</td>\n",
       "    </tr>\n",
       "    <tr>\n",
       "      <th>6</th>\n",
       "      <td>540</td>\n",
       "      <td>1763</td>\n",
       "      <td>semaforo fundido</td>\n",
       "    </tr>\n",
       "    <tr>\n",
       "      <th>7</th>\n",
       "      <td>352</td>\n",
       "      <td>1727</td>\n",
       "      <td>gracia saludo</td>\n",
       "    </tr>\n",
       "    <tr>\n",
       "      <th>8</th>\n",
       "      <td>2841</td>\n",
       "      <td>1674</td>\n",
       "      <td>adjunto foto</td>\n",
       "    </tr>\n",
       "    <tr>\n",
       "      <th>9</th>\n",
       "      <td>1110</td>\n",
       "      <td>1592</td>\n",
       "      <td>policia local</td>\n",
       "    </tr>\n",
       "  </tbody>\n",
       "</table>\n",
       "</div>"
      ],
      "text/plain": [
       "   token_id  frequency                 word\n",
       "0       244       4368  solicito reparacion\n",
       "1       299       3666            punto luz\n",
       "2      6364       3048      matricula punto\n",
       "3       241       1968     reparacion bache\n",
       "4       539       1815  reparacion semaforo\n",
       "5       535       1789     fundido solicito\n",
       "6       540       1763     semaforo fundido\n",
       "7       352       1727        gracia saludo\n",
       "8      2841       1674         adjunto foto\n",
       "9      1110       1592        policia local"
      ]
     },
     "execution_count": 29,
     "metadata": {},
     "output_type": "execute_result"
    }
   ],
   "source": [
    "df_documentos[:10]"
   ]
  },
  {
   "cell_type": "code",
   "execution_count": 39,
   "id": "a4141a4d",
   "metadata": {},
   "outputs": [],
   "source": [
    "corpus = [dictionary_filtrado.doc2bow(text) for text in df_preprocesado['texto_preprocesado']]"
   ]
  },
  {
   "cell_type": "code",
   "execution_count": 30,
   "id": "40e696a5",
   "metadata": {},
   "outputs": [],
   "source": [
    "corpus_bi = [dictionary_filtrado_bi.doc2bow(text) for text in df_preprocesado['bigramas_preprocesado']]"
   ]
  },
  {
   "cell_type": "code",
   "execution_count": 31,
   "id": "b7acc6ef",
   "metadata": {},
   "outputs": [],
   "source": [
    "# Guardar el corpus BoW en formato .mm\n",
    "MmCorpus.serialize('corpus_bi.mm', corpus_bi)"
   ]
  },
  {
   "cell_type": "markdown",
   "id": "2071a3e8",
   "metadata": {},
   "source": [
    "# Analisis de Servicios "
   ]
  },
  {
   "cell_type": "code",
   "execution_count": 44,
   "id": "dda5dafe",
   "metadata": {},
   "outputs": [
    {
     "name": "stdout",
     "output_type": "stream",
     "text": [
      "('ABONADO ARBUSTOS', 1805)\n",
      "('ABONADO CESPED', 1803)\n",
      "('ABONADO FLORES', 1804)\n",
      "('ALCORQUES', 1402)\n",
      "('ALUMBRADO DETERIORADO(ROTO)', 1106)\n",
      "('APEO', 1302)\n",
      "('ASPERSOR ROTO', 1501)\n",
      "('AVERIA SISTEMA DE RIEGO', 1506)\n",
      "('Accesibilidad web', 24182784)\n",
      "('Aceite', 501)\n",
      "('Acera', 10)\n",
      "('Admin. Electrónica: IyD', 109740033)\n",
      "('Admin. Electrónica: Tramita', 109740032)\n",
      "('Admin. Electrónica: telefónica', 109740034)\n",
      "('Administración Electrónica:Web', 82182145)\n",
      "('Adoquines', 50)\n",
      "('Agradecimientos', 1000021)\n",
      "('Agua', 4030465)\n",
      "('Alumbrado Publico', 5144577)\n",
      "('Anclajes', 502)\n",
      "('Animales domésticos muertos en domicilios', 515)\n",
      "('Animales muertos en viario público', 235)\n",
      "('Arbolado', 170)\n",
      "('Archivo Municipal', 6029312)\n",
      "('BANCOS', 1201)\n",
      "('BORDILLOS', 1601)\n",
      "('Bache', 61)\n",
      "('Bache', 11)\n",
      "('Baldosas', 20)\n",
      "('Barandillas', 40)\n",
      "('Basura abandonada en la vía pública', 234)\n",
      "('Basura y enseres alrededor de los contenedores', 503)\n",
      "('Biblioteca-hemeroteca', 6520832)\n",
      "('Bibliotecas Municipales', 5144585)\n",
      "('Bicicletas', 9043969)\n",
      "('Bordillos', 30)\n",
      "('Botellón', 252)\n",
      "('Brigadas Arquitectura', 1000014)\n",
      "('Buzón del Alcalde', 4849670)\n",
      "('CARTEL INFORMATIVO', 1205)\n",
      "('CASETAS', 1603)\n",
      "('CIRCUITO VITA', 1208)\n",
      "('CTRUZ', 300)\n",
      "('Cables colgando', 98)\n",
      "('Calidad de contenidos', 106954752)\n",
      "('Calzada', 60)\n",
      "('Cementerio', 5144582)\n",
      "('Centro Documentación del Agua', 82182144)\n",
      "('Ciencia y Tecnología', 102793216)\n",
      "('Columna inclinada', 96)\n",
      "('Columna oxidada y agujereada', 95)\n",
      "('Consulta de Expedientes Archivados > Consulta directa sótano', 30008)\n",
      "('Consulta de Expedientes Archivados > Licencias Urbanísticas', 30001)\n",
      "('Contenedor lleno', 1000031)\n",
      "('Contenedor roto', 225)\n",
      "('Contenedor sucio', 223)\n",
      "('Contenedor volcado', 508)\n",
      "('Contenedores', 220)\n",
      "('Contenedores soterrados', 292)\n",
      "('Cubos', 212)\n",
      "('Cultura', 9043968)\n",
      "('Césped, arbustos, flor', 180)\n",
      "('DESBROCE', 18016)\n",
      "('Defecto en arqueta', 94)\n",
      "('Desbroce de caminos', 258)\n",
      "('Deteriorada', 12)\n",
      "('Deteriorada', 62)\n",
      "('Deterioradas', 41)\n",
      "('Dominio Público', 1000036)\n",
      "('ELEMENTOS DE JUEGO', 12010)\n",
      "('ENCHARCAMIENTOS O SALPICADURAS', 1505)\n",
      "('ENTRACAVADOS ARBUSTOS Y SETOS', 18011)\n",
      "('ESCARDA ARBUSTOS Y SETOS', 1809)\n",
      "('ESCARDA MACIZOS FLOR Y HERBACEAS', 1807)\n",
      "('EXCESO DE RIEGO', 1802)\n",
      "('Ecociudad: saneamiento', 1000000)\n",
      "('Edificios, caminos y pavimentos', 160)\n",
      "('Elevada', 13)\n",
      "('Enseñanzas Artísticas', 16777217)\n",
      "('Escuelas Infantiles', 5472256)\n",
      "('Espacios privados', 1000024)\n",
      "('Excrementos', 253)\n",
      "('Excrementos de aves en el pavimento', 1000032)\n",
      "('FALLOS DE ALUMBRADO', 1105)\n",
      "('FALTA DE RIEGO', 1801)\n",
      "('FALTA DE RIEGO', 1503)\n",
      "('FILTRACIONES POR RED DE RIEGO', 1504)\n",
      "('FUENTE DE AGUA POTABLE', 1203)\n",
      "('Factura electrónica', 1000001)\n",
      "('Falta', 81)\n",
      "('Falta suministro', 320)\n",
      "('Falta tape de arqueta', 93)\n",
      "('Faltan', 21)\n",
      "('Filtración o salida de agua', 310)\n",
      "('Fuentes ornamentales', 110)\n",
      "('GIMNASIO EN CALLE', 1207)\n",
      "('Gestión Web', 184647680)\n",
      "('Gobierno Abierto', 40000)\n",
      "('Gravas en el pavimento', 511)\n",
      "('Grietas', 63)\n",
      "('Hacer ruido', 82)\n",
      "('Hierbas en el pavimento', 1000033)\n",
      "('Hitos', 70)\n",
      "('Hojas', 1000019)\n",
      "('Hundida', 83)\n",
      "('Hundida', 14)\n",
      "('INTERNAL', 2)\n",
      "('Igualdad', 1000028)\n",
      "('Información y Atención al Ciudadano', 30005)\n",
      "('Informática Fiscal', 1000016)\n",
      "('Infraestructuras:Conservacion', 4849669)\n",
      "('Infraestructuras:Explotacion', 5931009)\n",
      "('Inspección Urbanística', 30004)\n",
      "('Instalaciones Deportivas', 5144576)\n",
      "('Instituto Mpal. Salud Publica', 5144579)\n",
      "('Intervenciones especiales', 422)\n",
      "('JUEGO DE MAYORES', 1206)\n",
      "('Juventud', 1000018)\n",
      "('LIMPIEZA PAPELERAS', 18024)\n",
      "('LIMPIEZA SANECAN', 18027)\n",
      "('LIMPIEZA ZONA VERDE', 18023)\n",
      "('LIMPIEZA ZONAS DE PAVIMENTO', 18025)\n",
      "('LIMPIEZA ZONAS TERRIZAS', 18026)\n",
      "('Licencias de Actividad', 30002)\n",
      "('Limpieza Pública', 4849672)\n",
      "('Limpieza de riberas', 255)\n",
      "('Limpieza viaria', 250)\n",
      "('Llaves y accesorios', 504)\n",
      "('Luminaria o farol roto', 97)\n",
      "('Lámpara apagada', 90)\n",
      "('Lámpara intermitente', 91)\n",
      "('MAL ESTADO OBRA CIVIL', 1101)\n",
      "('MAL ESTADO SALIDAS AGUA', 1102)\n",
      "('MUROS', 1602)\n",
      "('Manchas de aceites o grasas', 1000023)\n",
      "('Medioambiente', 4849673)\n",
      "('Mobiliario', 120)\n",
      "('Movilidad Urbana', 7733248)\n",
      "('Movilidad Urbana. Estacionamiento Regulado', 97779712)\n",
      "('Movilidad Urbana. Transporte Público', 97550336)\n",
      "('Movilidad Urbana: Badenes, Movilidad en Obras', 1000009)\n",
      "('Movilidad Urbana: Regulación Semáforos', 103677952)\n",
      "('Movilidad Urbana: Semáforos Fundidos', 1000008)\n",
      "('Movilidad Urbana: Señalización', 1000007)\n",
      "('Oficina Jurídica de Medio Ambiente y Movilidad', 1000029)\n",
      "('Oficina Municipal del Agua', 118587392)\n",
      "('Oficina Recursos Humanos', 1000015)\n",
      "('Oficina Técnica de Administración Electrónica', 1000010)\n",
      "('Oficina de Gestión del Espacio Público', 5144578)\n",
      "('Otros', 1000004)\n",
      "('Otros', 330)\n",
      "('PAPELERAS', 1202)\n",
      "('PAVIMENTO RAICES', 1403)\n",
      "('PAVIMENTOS', 1209)\n",
      "('PAVIMENTOS', 1604)\n",
      "('PINZADO RAMAS', 1303)\n",
      "('PLAGAS Y ENFERMEDADES', 1401)\n",
      "('PLANTACIONES ARBUSTOS', 1701)\n",
      "('PLANTACIONES FLOR', 1702)\n",
      "('PLANTACIONES SETOS', 1703)\n",
      "('PODA', 1301)\n",
      "('Padrón Municipal', 5144586)\n",
      "('Papeleras caninas', 233)\n",
      "('Papeleras ordinarias', 231)\n",
      "('Papeleras, pintadas y voluminosos', 230)\n",
      "('Parques y Jardines', 4849671)\n",
      "('Participacion Ciudadana', 4849668)\n",
      "('Patrimonio Rústico', 1000011)\n",
      "('Pegatina identificativa dañada o rota', 99)\n",
      "('Personas Mayores', 5144581)\n",
      "('Pilas', 224)\n",
      "('Pintadas y grafitis', 254)\n",
      "('Plantación de Arbolado', 1704)\n",
      "('Poda de arbustos', 1000013)\n",
      "('Policia Local', 4849666)\n",
      "('Polígonos industriales', 401)\n",
      "('Protección animal', 1000002)\n",
      "('Publicaciones y concursos', 5144583)\n",
      "('Puentes deteriorados', 85)\n",
      "('Puerta a puerta de papel - cartón', 505)\n",
      "('Puntos limpios fijos', 241)\n",
      "('Puntos limpios móviles', 242)\n",
      "('RECEBO ZONAS TERRIZAS', 18022)\n",
      "('RECORTE ARBUSTOS', 18013)\n",
      "('RECORTE DE SETOS', 18012)\n",
      "('REPARACION ZONAS TERRIZAS', 18021)\n",
      "('RESIEMBRA', 18018)\n",
      "('RIEGO ARBOLADO ROTO', 1502)\n",
      "('RIEGO MAL DIRECCIONADO', 1507)\n",
      "('Rampa para acceso', 87)\n",
      "('Recogida de mercados', 402)\n",
      "('Recogida de residuos sanitarios', 509)\n",
      "('Recogida neumática', 291)\n",
      "('Rejilla corrida', 1000006)\n",
      "('Responsabilidad patrimonial', 513)\n",
      "('Retirada de muebles y enseres', 263)\n",
      "('Reubicación de contenedores', 507)\n",
      "('Riegos', 150)\n",
      "('Riesgo de Arbolado', 1404)\n",
      "('Ropa', 500)\n",
      "('Rotas', 22)\n",
      "('Rotos', 31)\n",
      "('Rotos', 71)\n",
      "('SIEGA', 18014)\n",
      "('SIEMBRA', 18019)\n",
      "('Servicio Técnico Infraestructuras', 188088321)\n",
      "('Servicios Sociales', 1000017)\n",
      "('Sin rebajar', 32)\n",
      "('Solares municipales', 256)\n",
      "('Solares, riberas y caminos', 280)\n",
      "('Soterrado', 222)\n",
      "('Sueltos', 51)\n",
      "('Sumidero', 1000005)\n",
      "('TRATAMIENTOS FITOSANITARIOS', 18020)\n",
      "('TUTORES', 1405)\n",
      "('Tapa', 80)\n",
      "('Tapa circular', 1000003)\n",
      "('Tarjeta Ciudadana', 82182147)\n",
      "('Tasas de residuos', 270)\n",
      "('Tramo apagado', 92)\n",
      "('Tributaria', 1000030)\n",
      "('Turismo', 4849665)\n",
      "('Universidad Popular', 1000035)\n",
      "('Urbanismo', 5144587)\n",
      "('VALLADO INFANTIL', 12011)\n",
      "('VALLAS Y BARANDILLAS', 1204)\n",
      "('VERTIDO DE AGUA EXTERIOR VASO', 1104)\n",
      "('Valdespartera', 290)\n",
      "('Web Municipal', 4784129)\n",
      "('Zaragoza Cultural', 5144580)\n",
      "('Zaragoza Deporte', 1000012)\n",
      "('Zaragoza Internacional', 16777216)\n"
     ]
    }
   ],
   "source": [
    "pares_unicos = set(zip(df_preprocesado['service_name'], df_preprocesado['service_code']))\n",
    "\n",
    "# Mostrar los pares\n",
    "for par in sorted(pares_unicos, key=lambda x: x[0]):\n",
    "    print(par)"
   ]
  },
  {
   "cell_type": "code",
   "execution_count": 45,
   "id": "b68162a9",
   "metadata": {},
   "outputs": [],
   "source": [
    "df_pares = pd.DataFrame(pares_unicos, columns=['columna_1', 'columna_2'])\n",
    "\n",
    "# Guardar el DataFrame como archivo CSV\n",
    "df_pares.to_csv('pares_unicos.csv', index=False)"
   ]
  },
  {
   "cell_type": "code",
   "execution_count": 48,
   "id": "7de1cdae",
   "metadata": {},
   "outputs": [
    {
     "data": {
      "text/plain": [
       "232"
      ]
     },
     "execution_count": 48,
     "metadata": {},
     "output_type": "execute_result"
    }
   ],
   "source": [
    "len(df_preprocesado['service_code'].unique())"
   ]
  },
  {
   "cell_type": "code",
   "execution_count": 19,
   "id": "3fc7b514",
   "metadata": {},
   "outputs": [],
   "source": [
    "df_preprocesado = pd.read_csv('df_preprocesado.csv', sep=';')"
   ]
  },
  {
   "cell_type": "markdown",
   "id": "c8dac7a3",
   "metadata": {},
   "source": [
    "# Servicios unificados"
   ]
  },
  {
   "cell_type": "code",
   "execution_count": 2,
   "id": "0a2ab921",
   "metadata": {},
   "outputs": [],
   "source": [
    "import pandas as pd\n",
    "df_service_code = pd.read_csv('servicios_unicos.csv', sep=\",\",header=None)"
   ]
  },
  {
   "cell_type": "code",
   "execution_count": 3,
   "id": "5ede57ab",
   "metadata": {},
   "outputs": [
    {
     "data": {
      "text/html": [
       "<div>\n",
       "<style scoped>\n",
       "    .dataframe tbody tr th:only-of-type {\n",
       "        vertical-align: middle;\n",
       "    }\n",
       "\n",
       "    .dataframe tbody tr th {\n",
       "        vertical-align: top;\n",
       "    }\n",
       "\n",
       "    .dataframe thead th {\n",
       "        text-align: right;\n",
       "    }\n",
       "</style>\n",
       "<table border=\"1\" class=\"dataframe\">\n",
       "  <thead>\n",
       "    <tr style=\"text-align: right;\">\n",
       "      <th></th>\n",
       "      <th>0</th>\n",
       "      <th>1</th>\n",
       "      <th>2</th>\n",
       "    </tr>\n",
       "  </thead>\n",
       "  <tbody>\n",
       "    <tr>\n",
       "      <th>0</th>\n",
       "      <td>INTERNAL</td>\n",
       "      <td>2</td>\n",
       "      <td>2</td>\n",
       "    </tr>\n",
       "    <tr>\n",
       "      <th>1</th>\n",
       "      <td>Acera</td>\n",
       "      <td>10</td>\n",
       "      <td>4849669</td>\n",
       "    </tr>\n",
       "    <tr>\n",
       "      <th>2</th>\n",
       "      <td>Bache</td>\n",
       "      <td>11</td>\n",
       "      <td>4849669</td>\n",
       "    </tr>\n",
       "    <tr>\n",
       "      <th>3</th>\n",
       "      <td>Deteriorada</td>\n",
       "      <td>12</td>\n",
       "      <td>4849669</td>\n",
       "    </tr>\n",
       "    <tr>\n",
       "      <th>4</th>\n",
       "      <td>Elevada</td>\n",
       "      <td>13</td>\n",
       "      <td>4849669</td>\n",
       "    </tr>\n",
       "    <tr>\n",
       "      <th>5</th>\n",
       "      <td>Hundida</td>\n",
       "      <td>14</td>\n",
       "      <td>4849669</td>\n",
       "    </tr>\n",
       "    <tr>\n",
       "      <th>6</th>\n",
       "      <td>Baldosas</td>\n",
       "      <td>20</td>\n",
       "      <td>4849669</td>\n",
       "    </tr>\n",
       "    <tr>\n",
       "      <th>7</th>\n",
       "      <td>Faltan</td>\n",
       "      <td>21</td>\n",
       "      <td>4849669</td>\n",
       "    </tr>\n",
       "    <tr>\n",
       "      <th>8</th>\n",
       "      <td>Rotas</td>\n",
       "      <td>22</td>\n",
       "      <td>4849669</td>\n",
       "    </tr>\n",
       "    <tr>\n",
       "      <th>9</th>\n",
       "      <td>Bordillos</td>\n",
       "      <td>30</td>\n",
       "      <td>4849669</td>\n",
       "    </tr>\n",
       "    <tr>\n",
       "      <th>10</th>\n",
       "      <td>Rotos</td>\n",
       "      <td>31</td>\n",
       "      <td>4849669</td>\n",
       "    </tr>\n",
       "    <tr>\n",
       "      <th>11</th>\n",
       "      <td>Sin rebajar</td>\n",
       "      <td>32</td>\n",
       "      <td>4849669</td>\n",
       "    </tr>\n",
       "    <tr>\n",
       "      <th>12</th>\n",
       "      <td>Barandillas</td>\n",
       "      <td>40</td>\n",
       "      <td>4849669</td>\n",
       "    </tr>\n",
       "    <tr>\n",
       "      <th>13</th>\n",
       "      <td>Deterioradas</td>\n",
       "      <td>41</td>\n",
       "      <td>4849669</td>\n",
       "    </tr>\n",
       "    <tr>\n",
       "      <th>14</th>\n",
       "      <td>Adoquines</td>\n",
       "      <td>50</td>\n",
       "      <td>4849669</td>\n",
       "    </tr>\n",
       "    <tr>\n",
       "      <th>15</th>\n",
       "      <td>Sueltos</td>\n",
       "      <td>51</td>\n",
       "      <td>4849669</td>\n",
       "    </tr>\n",
       "    <tr>\n",
       "      <th>16</th>\n",
       "      <td>Calzada</td>\n",
       "      <td>60</td>\n",
       "      <td>4849669</td>\n",
       "    </tr>\n",
       "    <tr>\n",
       "      <th>17</th>\n",
       "      <td>Bache</td>\n",
       "      <td>61</td>\n",
       "      <td>4849669</td>\n",
       "    </tr>\n",
       "    <tr>\n",
       "      <th>18</th>\n",
       "      <td>Deteriorada</td>\n",
       "      <td>62</td>\n",
       "      <td>4849669</td>\n",
       "    </tr>\n",
       "    <tr>\n",
       "      <th>19</th>\n",
       "      <td>Grietas</td>\n",
       "      <td>63</td>\n",
       "      <td>4849669</td>\n",
       "    </tr>\n",
       "  </tbody>\n",
       "</table>\n",
       "</div>"
      ],
      "text/plain": [
       "               0   1        2\n",
       "0       INTERNAL   2        2\n",
       "1          Acera  10  4849669\n",
       "2          Bache  11  4849669\n",
       "3    Deteriorada  12  4849669\n",
       "4        Elevada  13  4849669\n",
       "5        Hundida  14  4849669\n",
       "6       Baldosas  20  4849669\n",
       "7         Faltan  21  4849669\n",
       "8          Rotas  22  4849669\n",
       "9      Bordillos  30  4849669\n",
       "10         Rotos  31  4849669\n",
       "11   Sin rebajar  32  4849669\n",
       "12   Barandillas  40  4849669\n",
       "13  Deterioradas  41  4849669\n",
       "14     Adoquines  50  4849669\n",
       "15       Sueltos  51  4849669\n",
       "16       Calzada  60  4849669\n",
       "17         Bache  61  4849669\n",
       "18   Deteriorada  62  4849669\n",
       "19       Grietas  63  4849669"
      ]
     },
     "execution_count": 3,
     "metadata": {},
     "output_type": "execute_result"
    }
   ],
   "source": [
    "df_service_code.head(20)"
   ]
  },
  {
   "cell_type": "code",
   "execution_count": 15,
   "id": "514ea98e",
   "metadata": {},
   "outputs": [],
   "source": [
    "df_service_code = df_service_code.rename(columns={2: 'service_code_unificado'})"
   ]
  },
  {
   "cell_type": "code",
   "execution_count": 12,
   "id": "fb6120c7",
   "metadata": {},
   "outputs": [
    {
     "data": {
      "text/plain": [
       "0              2\n",
       "1             10\n",
       "2             11\n",
       "3             12\n",
       "4             13\n",
       "         ...    \n",
       "227    109740033\n",
       "228    109740034\n",
       "229    118587392\n",
       "230    184647680\n",
       "231    188088321\n",
       "Name: 1, Length: 232, dtype: int64"
      ]
     },
     "execution_count": 12,
     "metadata": {},
     "output_type": "execute_result"
    }
   ],
   "source": [
    "df_service_code[1]"
   ]
  },
  {
   "cell_type": "code",
   "execution_count": 20,
   "id": "5d86fd6c",
   "metadata": {},
   "outputs": [],
   "source": [
    "import pandas as pd\n",
    "\n",
    "def agregar_code_service_unificado(df_preprocesado, df_service_code):\n",
    "    # Crear un diccionario para mapear service_code a service_code_unificado\n",
    "    mapeo_codigos = dict(zip(df_service_code['service_code'], df_service_code['service_code_unificado']))\n",
    "\n",
    "    # Agregar la nueva columna utilizando el mapeo\n",
    "    df_preprocesado['code_service_unificado'] = df_preprocesado['service_code'].map(mapeo_codigos)\n",
    "\n",
    "    return df_preprocesado\n",
    "\n",
    "# Ejemplo de uso:\n",
    "# Supongamos que tienes tus DataFrames df_preprocesado y df_service_code cargados\n",
    "# df_preprocesado = pd.read_csv(\"tu_archivo_preprocesado.csv\")\n",
    "# df_service_code = pd.read_csv(\"tu_archivo_service_code.csv\")\n",
    "\n",
    "df_preprocesado_con_codigo = agregar_code_service_unificado(df_preprocesado, df_service_code)\n",
    "# print(df_preprocesado_con_codigo)"
   ]
  },
  {
   "cell_type": "code",
   "execution_count": 33,
   "id": "3933ec9b",
   "metadata": {},
   "outputs": [
    {
     "data": {
      "text/plain": [
       "61"
      ]
     },
     "execution_count": 33,
     "metadata": {},
     "output_type": "execute_result"
    }
   ],
   "source": [
    "len(df_preprocesado['code_service_unificado'].unique())"
   ]
  }
 ],
 "metadata": {
  "kernelspec": {
   "display_name": "Python 3 (ipykernel)",
   "language": "python",
   "name": "python3"
  },
  "language_info": {
   "codemirror_mode": {
    "name": "ipython",
    "version": 3
   },
   "file_extension": ".py",
   "mimetype": "text/x-python",
   "name": "python",
   "nbconvert_exporter": "python",
   "pygments_lexer": "ipython3",
   "version": "3.11.5"
  }
 },
 "nbformat": 4,
 "nbformat_minor": 5
}
